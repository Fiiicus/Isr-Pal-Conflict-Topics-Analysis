{
 "cells": [
  {
   "cell_type": "code",
   "execution_count": 36,
   "metadata": {
    "collapsed": true
   },
   "outputs": [],
   "source": [
    "import pandas as pd"
   ]
  },
  {
   "cell_type": "code",
   "execution_count": 37,
   "outputs": [
    {
     "data": {
      "text/plain": "                                                微博正文              发布时间  ip\n0  美国摇摆州的穆斯林发起一项运动—“抛弃拜登”，希望阻止拜登的连任。美国只有不多的几百万穆斯林...  2023-12-04 03:37  英国\n1  美国商务部长雷蒙多2日参加美国年度国防论坛“里根国防论坛”时称，中国是“我们有史以来面临到的...  2023-12-04 02:56  广东\n2  #巴以冲突#遭胡塞武装打击后，一艘英国船只在红海受损英东联合探索号被也门导弹击中。以星公司拥...  2023-12-04 02:35  贵州\n3  🇾🇪🇬🇧🇮🇱也门胡塞武装发言人叶海亚证实，胡塞武装在曼德海峡袭击了以色列的“团结探索者”号和...  2023-12-04 02:28  广东\n4  #巴以冲突#日前，记者询问臭名昭著的美国参议员卢比奥是否会呼吁停火？它说：“绝对不会，我希望...  2023-12-04 02:15  重庆",
      "text/html": "<div>\n<style scoped>\n    .dataframe tbody tr th:only-of-type {\n        vertical-align: middle;\n    }\n\n    .dataframe tbody tr th {\n        vertical-align: top;\n    }\n\n    .dataframe thead th {\n        text-align: right;\n    }\n</style>\n<table border=\"1\" class=\"dataframe\">\n  <thead>\n    <tr style=\"text-align: right;\">\n      <th></th>\n      <th>微博正文</th>\n      <th>发布时间</th>\n      <th>ip</th>\n    </tr>\n  </thead>\n  <tbody>\n    <tr>\n      <th>0</th>\n      <td>美国摇摆州的穆斯林发起一项运动—“抛弃拜登”，希望阻止拜登的连任。美国只有不多的几百万穆斯林...</td>\n      <td>2023-12-04 03:37</td>\n      <td>英国</td>\n    </tr>\n    <tr>\n      <th>1</th>\n      <td>美国商务部长雷蒙多2日参加美国年度国防论坛“里根国防论坛”时称，中国是“我们有史以来面临到的...</td>\n      <td>2023-12-04 02:56</td>\n      <td>广东</td>\n    </tr>\n    <tr>\n      <th>2</th>\n      <td>#巴以冲突#遭胡塞武装打击后，一艘英国船只在红海受损英东联合探索号被也门导弹击中。以星公司拥...</td>\n      <td>2023-12-04 02:35</td>\n      <td>贵州</td>\n    </tr>\n    <tr>\n      <th>3</th>\n      <td>🇾🇪🇬🇧🇮🇱也门胡塞武装发言人叶海亚证实，胡塞武装在曼德海峡袭击了以色列的“团结探索者”号和...</td>\n      <td>2023-12-04 02:28</td>\n      <td>广东</td>\n    </tr>\n    <tr>\n      <th>4</th>\n      <td>#巴以冲突#日前，记者询问臭名昭著的美国参议员卢比奥是否会呼吁停火？它说：“绝对不会，我希望...</td>\n      <td>2023-12-04 02:15</td>\n      <td>重庆</td>\n    </tr>\n  </tbody>\n</table>\n</div>"
     },
     "execution_count": 37,
     "metadata": {},
     "output_type": "execute_result"
    }
   ],
   "source": [
    "# 原始数据路径\n",
    "raw_data_path = 'data/raw/巴以冲突12月.csv'\n",
    "data = pd.read_csv(raw_data_path, encoding='utf8')\n",
    "data.head()"
   ],
   "metadata": {
    "collapsed": false
   }
  },
  {
   "cell_type": "code",
   "execution_count": 38,
   "outputs": [
    {
     "data": {
      "text/plain": "0        美国摇摆州的穆斯林发起一项运动抛弃拜登希望阻止拜登的连任美国只有不多的几百万穆斯林但就想阻止...\n1        美国商务部长雷蒙多日参加美国年度国防论坛里根国防论坛时称中国是我们有史以来面临到的最大威胁强...\n2        巴以冲突遭胡塞武装打击后一艘英国船只在红海受损英东联合探索号被也门导弹击中以星公司拥有的另一...\n3        也门胡塞武装发言人叶海亚证实胡塞武装在曼德海峡袭击了以色列的团结探索者号和九号号货船第一艘船...\n4        巴以冲突日前记者询问臭名昭著的美国参议员卢比奥是否会呼吁停火它说绝对不会我希望以色列摧毁哈马...\n                               ...                        \n15372    相比于伊朗土耳其还是嘴炮更厉害些埃尔多安又放出狠话我们不会忘记这次种族灭绝我们也不会让其他人...\n15373    临时停火协议到期巴以冲突再起月日以军持续攻击加沙地带多个目标哈马斯对以色列实施火箭弹袭击据加...\n15374    临时停火协议到期巴以冲突再起月日以军持续攻击加沙地带多个目标哈马斯对以色列实施火箭弹袭击据加...\n15375    以色列谴责哈马斯加沙领导人结束停战以色列政府发言人表示加沙哈马斯领导人叶海亚辛瓦尔被指责为谈...\n15376    临时停火协议到期巴以冲突再起月日以军持续攻击加沙地带多个目标哈马斯对以色列实施火箭弹袭击据加...\nName: 微博正文, Length: 15377, dtype: object"
     },
     "execution_count": 38,
     "metadata": {},
     "output_type": "execute_result"
    }
   ],
   "source": [
    "# 只保留汉字\n",
    "def is_chinese(uchar):\n",
    "    if uchar >= u'\\u4e00' and uchar <= u'\\u9fa5':\n",
    "        return True\n",
    "    else:\n",
    "        return False\n",
    "\n",
    "def format_str(content):\n",
    "    content_str = ''\n",
    "    for i in content:\n",
    "        if is_chinese(i):\n",
    "            content_str = content_str + i\n",
    "    return content_str\n",
    "\n",
    "data.iloc[:,0] = list(map(format_str, data.iloc[:,0]))\n",
    "data.iloc[:,0]"
   ],
   "metadata": {
    "collapsed": false
   }
  },
  {
   "cell_type": "code",
   "execution_count": 39,
   "outputs": [
    {
     "data": {
      "text/plain": "                                                    微博正文              发布时间  \\\n0      美国摇摆州的穆斯林发起一项运动抛弃拜登希望阻止拜登的连任美国只有不多的几百万穆斯林但就想阻止...  2023-12-04 03:37   \n1      美国商务部长雷蒙多日参加美国年度国防论坛里根国防论坛时称中国是我们有史以来面临到的最大威胁强...  2023-12-04 02:56   \n2      巴以冲突遭胡塞武装打击后一艘英国船只在红海受损英东联合探索号被也门导弹击中以星公司拥有的另一...  2023-12-04 02:35   \n3      也门胡塞武装发言人叶海亚证实胡塞武装在曼德海峡袭击了以色列的团结探索者号和九号号货船第一艘船...  2023-12-04 02:28   \n4      巴以冲突日前记者询问臭名昭著的美国参议员卢比奥是否会呼吁停火它说绝对不会我希望以色列摧毁哈马...  2023-12-04 02:15   \n...                                                  ...               ...   \n15358                   以色列铁穹拦截弹在特拉维夫发射失败巴以冲突小组的战利品的微博视频  2023-12-03 09:05   \n15366  临时停火协议到期巴以冲突再起月日以军持续攻击加沙地带多个目标哈马斯对以色列实施火箭弹袭击据加...  2023-12-03 09:02   \n15367  临时停火协议到期巴以冲突再起月日以军持续攻击加沙地带多个目标哈马斯对以色列实施火箭弹袭击据加...  2023-12-03 09:02   \n15372  相比于伊朗土耳其还是嘴炮更厉害些埃尔多安又放出狠话我们不会忘记这次种族灭绝我们也不会让其他人...  2023-12-03 09:01   \n15375  以色列谴责哈马斯加沙领导人结束停战以色列政府发言人表示加沙哈马斯领导人叶海亚辛瓦尔被指责为谈...  2023-12-03 09:00   \n\n        ip  \n0       英国  \n1       广东  \n2       贵州  \n3       广东  \n4       重庆  \n...    ...  \n15358  NaN  \n15366  NaN  \n15367  NaN  \n15372  NaN  \n15375  NaN  \n\n[13929 rows x 3 columns]",
      "text/html": "<div>\n<style scoped>\n    .dataframe tbody tr th:only-of-type {\n        vertical-align: middle;\n    }\n\n    .dataframe tbody tr th {\n        vertical-align: top;\n    }\n\n    .dataframe thead th {\n        text-align: right;\n    }\n</style>\n<table border=\"1\" class=\"dataframe\">\n  <thead>\n    <tr style=\"text-align: right;\">\n      <th></th>\n      <th>微博正文</th>\n      <th>发布时间</th>\n      <th>ip</th>\n    </tr>\n  </thead>\n  <tbody>\n    <tr>\n      <th>0</th>\n      <td>美国摇摆州的穆斯林发起一项运动抛弃拜登希望阻止拜登的连任美国只有不多的几百万穆斯林但就想阻止...</td>\n      <td>2023-12-04 03:37</td>\n      <td>英国</td>\n    </tr>\n    <tr>\n      <th>1</th>\n      <td>美国商务部长雷蒙多日参加美国年度国防论坛里根国防论坛时称中国是我们有史以来面临到的最大威胁强...</td>\n      <td>2023-12-04 02:56</td>\n      <td>广东</td>\n    </tr>\n    <tr>\n      <th>2</th>\n      <td>巴以冲突遭胡塞武装打击后一艘英国船只在红海受损英东联合探索号被也门导弹击中以星公司拥有的另一...</td>\n      <td>2023-12-04 02:35</td>\n      <td>贵州</td>\n    </tr>\n    <tr>\n      <th>3</th>\n      <td>也门胡塞武装发言人叶海亚证实胡塞武装在曼德海峡袭击了以色列的团结探索者号和九号号货船第一艘船...</td>\n      <td>2023-12-04 02:28</td>\n      <td>广东</td>\n    </tr>\n    <tr>\n      <th>4</th>\n      <td>巴以冲突日前记者询问臭名昭著的美国参议员卢比奥是否会呼吁停火它说绝对不会我希望以色列摧毁哈马...</td>\n      <td>2023-12-04 02:15</td>\n      <td>重庆</td>\n    </tr>\n    <tr>\n      <th>...</th>\n      <td>...</td>\n      <td>...</td>\n      <td>...</td>\n    </tr>\n    <tr>\n      <th>15358</th>\n      <td>以色列铁穹拦截弹在特拉维夫发射失败巴以冲突小组的战利品的微博视频</td>\n      <td>2023-12-03 09:05</td>\n      <td>NaN</td>\n    </tr>\n    <tr>\n      <th>15366</th>\n      <td>临时停火协议到期巴以冲突再起月日以军持续攻击加沙地带多个目标哈马斯对以色列实施火箭弹袭击据加...</td>\n      <td>2023-12-03 09:02</td>\n      <td>NaN</td>\n    </tr>\n    <tr>\n      <th>15367</th>\n      <td>临时停火协议到期巴以冲突再起月日以军持续攻击加沙地带多个目标哈马斯对以色列实施火箭弹袭击据加...</td>\n      <td>2023-12-03 09:02</td>\n      <td>NaN</td>\n    </tr>\n    <tr>\n      <th>15372</th>\n      <td>相比于伊朗土耳其还是嘴炮更厉害些埃尔多安又放出狠话我们不会忘记这次种族灭绝我们也不会让其他人...</td>\n      <td>2023-12-03 09:01</td>\n      <td>NaN</td>\n    </tr>\n    <tr>\n      <th>15375</th>\n      <td>以色列谴责哈马斯加沙领导人结束停战以色列政府发言人表示加沙哈马斯领导人叶海亚辛瓦尔被指责为谈...</td>\n      <td>2023-12-03 09:00</td>\n      <td>NaN</td>\n    </tr>\n  </tbody>\n</table>\n<p>13929 rows × 3 columns</p>\n</div>"
     },
     "execution_count": 39,
     "metadata": {},
     "output_type": "execute_result"
    }
   ],
   "source": [
    "# 去重\n",
    "data = data.drop_duplicates(['微博正文'],keep='first')\n",
    "data"
   ],
   "metadata": {
    "collapsed": false
   }
  },
  {
   "cell_type": "code",
   "execution_count": 40,
   "outputs": [
    {
     "data": {
      "text/plain": "                                                    微博正文              发布时间  \\\n0      [美国/ns, 摇摆/v, 州/n, 的/uj, 穆斯林/nz, 发起/v, 一项/m, 运...  2023-12-04 03:37   \n1      [美国商务部/nt, 长雷蒙/ns, 多日/m, 参加/v, 美国/ns, 年度/n, 国防...  2023-12-04 02:56   \n2      [巴以冲突/x, 遭/v, 胡塞/nr, 武装/n, 打击/v, 后/f, 一艘/m, 英国...  2023-12-04 02:35   \n3      [也门/d, 胡塞/nr, 武装/n, 发言人/l, 叶海亚/nr, 证实/n, 胡塞/nr...  2023-12-04 02:28   \n4      [巴以冲突/x, 日前/t, 记者/n, 询问/v, 臭名昭著/i, 的/uj, 美国/ns...  2023-12-04 02:15   \n...                                                  ...               ...   \n15358  [以色列/ns, 铁穹/n, 拦截/v, 弹/v, 在/p, 特拉维夫/nrt, 发射/v,...  2023-12-03 09:05   \n15366  [临时/b, 停火协议/i, 到期/d, 巴以冲突/x, 再起/v, 月/m, 日/m, 以...  2023-12-03 09:02   \n15367  [临时/b, 停火协议/i, 到期/d, 巴以冲突/x, 再起/v, 月/m, 日/m, 以...  2023-12-03 09:02   \n15372  [相比/v, 于/p, 伊朗/ns, 土耳其/ns, 还是/c, 嘴炮/n, 更/d, 厉害...  2023-12-03 09:01   \n15375  [以色列/ns, 谴责/v, 哈马斯/nrt, 加沙/ns, 领导人/n, 结束/v, 停战...  2023-12-03 09:00   \n\n        ip  \n0       英国  \n1       广东  \n2       贵州  \n3       广东  \n4       重庆  \n...    ...  \n15358  NaN  \n15366  NaN  \n15367  NaN  \n15372  NaN  \n15375  NaN  \n\n[13929 rows x 3 columns]",
      "text/html": "<div>\n<style scoped>\n    .dataframe tbody tr th:only-of-type {\n        vertical-align: middle;\n    }\n\n    .dataframe tbody tr th {\n        vertical-align: top;\n    }\n\n    .dataframe thead th {\n        text-align: right;\n    }\n</style>\n<table border=\"1\" class=\"dataframe\">\n  <thead>\n    <tr style=\"text-align: right;\">\n      <th></th>\n      <th>微博正文</th>\n      <th>发布时间</th>\n      <th>ip</th>\n    </tr>\n  </thead>\n  <tbody>\n    <tr>\n      <th>0</th>\n      <td>[美国/ns, 摇摆/v, 州/n, 的/uj, 穆斯林/nz, 发起/v, 一项/m, 运...</td>\n      <td>2023-12-04 03:37</td>\n      <td>英国</td>\n    </tr>\n    <tr>\n      <th>1</th>\n      <td>[美国商务部/nt, 长雷蒙/ns, 多日/m, 参加/v, 美国/ns, 年度/n, 国防...</td>\n      <td>2023-12-04 02:56</td>\n      <td>广东</td>\n    </tr>\n    <tr>\n      <th>2</th>\n      <td>[巴以冲突/x, 遭/v, 胡塞/nr, 武装/n, 打击/v, 后/f, 一艘/m, 英国...</td>\n      <td>2023-12-04 02:35</td>\n      <td>贵州</td>\n    </tr>\n    <tr>\n      <th>3</th>\n      <td>[也门/d, 胡塞/nr, 武装/n, 发言人/l, 叶海亚/nr, 证实/n, 胡塞/nr...</td>\n      <td>2023-12-04 02:28</td>\n      <td>广东</td>\n    </tr>\n    <tr>\n      <th>4</th>\n      <td>[巴以冲突/x, 日前/t, 记者/n, 询问/v, 臭名昭著/i, 的/uj, 美国/ns...</td>\n      <td>2023-12-04 02:15</td>\n      <td>重庆</td>\n    </tr>\n    <tr>\n      <th>...</th>\n      <td>...</td>\n      <td>...</td>\n      <td>...</td>\n    </tr>\n    <tr>\n      <th>15358</th>\n      <td>[以色列/ns, 铁穹/n, 拦截/v, 弹/v, 在/p, 特拉维夫/nrt, 发射/v,...</td>\n      <td>2023-12-03 09:05</td>\n      <td>NaN</td>\n    </tr>\n    <tr>\n      <th>15366</th>\n      <td>[临时/b, 停火协议/i, 到期/d, 巴以冲突/x, 再起/v, 月/m, 日/m, 以...</td>\n      <td>2023-12-03 09:02</td>\n      <td>NaN</td>\n    </tr>\n    <tr>\n      <th>15367</th>\n      <td>[临时/b, 停火协议/i, 到期/d, 巴以冲突/x, 再起/v, 月/m, 日/m, 以...</td>\n      <td>2023-12-03 09:02</td>\n      <td>NaN</td>\n    </tr>\n    <tr>\n      <th>15372</th>\n      <td>[相比/v, 于/p, 伊朗/ns, 土耳其/ns, 还是/c, 嘴炮/n, 更/d, 厉害...</td>\n      <td>2023-12-03 09:01</td>\n      <td>NaN</td>\n    </tr>\n    <tr>\n      <th>15375</th>\n      <td>[以色列/ns, 谴责/v, 哈马斯/nrt, 加沙/ns, 领导人/n, 结束/v, 停战...</td>\n      <td>2023-12-03 09:00</td>\n      <td>NaN</td>\n    </tr>\n  </tbody>\n</table>\n<p>13929 rows × 3 columns</p>\n</div>"
     },
     "execution_count": 40,
     "metadata": {},
     "output_type": "execute_result"
    }
   ],
   "source": [
    "# 对文本进行jieba分词\n",
    "import jieba\n",
    "import jieba.posseg as pseg\n",
    "import pickle\n",
    "import os\n",
    "# 词性pickle文件的保存路径\n",
    "pos_filename = os.path.join('data','interim',os.path.basename(raw_data_path).split('.')[0]+'pos.pickle')\n",
    "# 如果存在词性pickle文件，则直接加载\n",
    "if os.path.exists(pos_filename):\n",
    "    with open(pos_filename, 'rb') as f:\n",
    "        data = pickle.load(f)\n",
    "else: # 没有则生成\n",
    "    jieba.load_userdict('data/补充词典.txt')\n",
    "    data.iloc[:,0] = list(map(lambda s:list(pseg.cut(s,use_paddle=True)),data.iloc[:,0]))\n",
    "    # data.iloc[:,0] = list(map(lambda s:list(jieba.cut(s,use_paddle=True)),data.iloc[:,0]))\n",
    "    with open(pos_filename,'wb') as f:\n",
    "        pickle.dump(data, f)\n",
    "data"
   ],
   "metadata": {
    "collapsed": false
   }
  },
  {
   "cell_type": "code",
   "execution_count": 41,
   "outputs": [],
   "source": [
    "# 根据词性删除虚词\n",
    "# data.drop(data[data.iloc[:,0]<10],inplace=True)\n",
    "for i in range(len(data)):\n",
    "    data.iloc[i,0] = list(filter(lambda x: x.flag not in ['t', 'p', 'm', 'q', 'r', 'y', 'u', 'm'], data.iloc[i,0]))\n",
    "# 删除单个字的词\n",
    "data.iloc[:,0] = [[word.word for word in line if len(word.word)>1]for line in data.iloc[:,0]]\n",
    "backup_data = data"
   ],
   "metadata": {
    "collapsed": false
   }
  },
  {
   "cell_type": "code",
   "execution_count": 42,
   "outputs": [
    {
     "data": {
      "text/plain": "51"
     },
     "execution_count": 42,
     "metadata": {},
     "output_type": "execute_result"
    }
   ],
   "source": [
    "# 去掉文本中的停用词\n",
    "def drop_stopwords(contents, stopwords):\n",
    "    contents_clean = []\n",
    "    for line in contents:\n",
    "        line_clean = []\n",
    "        for word in line:\n",
    "            if word in stopwords:\n",
    "                continue\n",
    "            line_clean.append(word)\n",
    "        contents_clean.append(line_clean)\n",
    "    return contents_clean\n",
    "stopwords = []\n",
    "with open('data/停用词.txt','r',encoding='utf8') as f:\n",
    "    stopwords = f.readlines()\n",
    "stopwords = set(map(lambda s:s.replace('\\n',''),stopwords))\n",
    "stopwords\n",
    "data.iloc[:,0] = drop_stopwords(data.iloc[:,0], stopwords)\n",
    "# data = data[data['微博正文'].apply(lambda x: 30 < len(x) < 50)]\n",
    "data = data[data['微博正文'].apply(lambda x:len(x) > 50)]\n",
    "min(list(map(len, data.iloc[:,0])))"
   ],
   "metadata": {
    "collapsed": false
   }
  },
  {
   "cell_type": "code",
   "execution_count": 43,
   "outputs": [],
   "source": [
    "# 保存处理后数据\n",
    "# 处理后数据文件名\n",
    "processed_filename = 'weibo_dec_processed'\n",
    "data.to_csv(os.path.join('data','processed',processed_filename+'.csv'), encoding='utf_8_sig')\n",
    "with open(os.path.join('data','processed',processed_filename+'.txt'),'w+', encoding='utf8') as f:\n",
    "    f.writelines([' '.join(line)+'\\n' for line in data.iloc[:,0]])"
   ],
   "metadata": {
    "collapsed": false
   }
  },
  {
   "cell_type": "code",
   "execution_count": 44,
   "outputs": [
    {
     "name": "stdout",
     "output_type": "stream",
     "text": [
      "37539\n",
      "[[0 0 0 ... 0 0 0]\n",
      " [0 0 0 ... 0 0 0]\n",
      " [0 0 0 ... 0 0 0]\n",
      " ...\n",
      " [0 0 0 ... 0 0 0]\n",
      " [0 0 0 ... 0 0 0]\n",
      " [0 0 0 ... 0 0 0]]\n",
      "(3484, 37539)\n"
     ]
    }
   ],
   "source": [
    "from sklearn.feature_extraction.text import CountVectorizer\n",
    "#将文本中的词转换成词频矩阵\n",
    "vectorizer = CountVectorizer()\n",
    "# print(vectorizer)\n",
    "corpus = [' '.join(line) for line in data.iloc[:,0]]\n",
    "#计算某个词出现的次数\n",
    "X = vectorizer.fit_transform(corpus)\n",
    "# print(type(X),X)\n",
    "#获取词袋中所有文本关键词\n",
    "word = vectorizer.get_feature_names_out()\n",
    "print(len(word))\n",
    "#查看词频结果\n",
    "print(X.toarray())\n",
    "print(X.shape)"
   ],
   "metadata": {
    "collapsed": false
   }
  }
 ],
 "metadata": {
  "kernelspec": {
   "display_name": "Python 3",
   "language": "python",
   "name": "python3"
  },
  "language_info": {
   "codemirror_mode": {
    "name": "ipython",
    "version": 2
   },
   "file_extension": ".py",
   "mimetype": "text/x-python",
   "name": "python",
   "nbconvert_exporter": "python",
   "pygments_lexer": "ipython2",
   "version": "2.7.6"
  }
 },
 "nbformat": 4,
 "nbformat_minor": 0
}
