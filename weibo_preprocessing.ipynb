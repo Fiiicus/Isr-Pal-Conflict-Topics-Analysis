{
 "cells": [
  {
   "cell_type": "code",
   "execution_count": 70,
   "metadata": {
    "collapsed": true
   },
   "outputs": [],
   "source": [
    "import pandas as pd"
   ]
  },
  {
   "cell_type": "code",
   "execution_count": 71,
   "outputs": [
    {
     "data": {
      "text/plain": "                                                微博正文             发布时间   ip\n0  美国专家认为乌克兰境内已没有受过西方训练的乌克兰军人俄罗斯军队摧毁了几乎所有曾经按照北约标准...  2023/10/3 18:21   吉林\n1  ��Suriyaks终于更新了：▪️（图一）巴赫穆特以南的情况：乌军仍在铁路附近和Klish...   2023/10/3 9:27   四川\n2  #乌克兰排除以放弃若干领土换取加入北约可能性#【乌克兰：不会拿领土做交换】据俄罗斯报纸网10...  2023/10/2 22:28   安徽\n3  【#乌克兰不会拿领土做交换来加入北约#】据俄罗斯报纸网10月1日报道，乌克兰议会电视频道援引...  2023/10/2 18:00  NaN\n4  【乌克兰：不会拿领土做交换】据俄罗斯报纸网10月1日报道，乌克兰议会电视频道援引乌克兰外交部...  2023/10/2 15:13   上海",
      "text/html": "<div>\n<style scoped>\n    .dataframe tbody tr th:only-of-type {\n        vertical-align: middle;\n    }\n\n    .dataframe tbody tr th {\n        vertical-align: top;\n    }\n\n    .dataframe thead th {\n        text-align: right;\n    }\n</style>\n<table border=\"1\" class=\"dataframe\">\n  <thead>\n    <tr style=\"text-align: right;\">\n      <th></th>\n      <th>微博正文</th>\n      <th>发布时间</th>\n      <th>ip</th>\n    </tr>\n  </thead>\n  <tbody>\n    <tr>\n      <th>0</th>\n      <td>美国专家认为乌克兰境内已没有受过西方训练的乌克兰军人俄罗斯军队摧毁了几乎所有曾经按照北约标准...</td>\n      <td>2023/10/3 18:21</td>\n      <td>吉林</td>\n    </tr>\n    <tr>\n      <th>1</th>\n      <td>��Suriyaks终于更新了：▪️（图一）巴赫穆特以南的情况：乌军仍在铁路附近和Klish...</td>\n      <td>2023/10/3 9:27</td>\n      <td>四川</td>\n    </tr>\n    <tr>\n      <th>2</th>\n      <td>#乌克兰排除以放弃若干领土换取加入北约可能性#【乌克兰：不会拿领土做交换】据俄罗斯报纸网10...</td>\n      <td>2023/10/2 22:28</td>\n      <td>安徽</td>\n    </tr>\n    <tr>\n      <th>3</th>\n      <td>【#乌克兰不会拿领土做交换来加入北约#】据俄罗斯报纸网10月1日报道，乌克兰议会电视频道援引...</td>\n      <td>2023/10/2 18:00</td>\n      <td>NaN</td>\n    </tr>\n    <tr>\n      <th>4</th>\n      <td>【乌克兰：不会拿领土做交换】据俄罗斯报纸网10月1日报道，乌克兰议会电视频道援引乌克兰外交部...</td>\n      <td>2023/10/2 15:13</td>\n      <td>上海</td>\n    </tr>\n  </tbody>\n</table>\n</div>"
     },
     "execution_count": 71,
     "metadata": {},
     "output_type": "execute_result"
    }
   ],
   "source": [
    "# 原始数据路径\n",
    "month = 'otc'\n",
    "raw_data_path = f'data/raw/巴以冲突{month}.csv'\n",
    "data = pd.read_csv(raw_data_path, encoding='utf8')\n",
    "data.head()"
   ],
   "metadata": {
    "collapsed": false
   }
  },
  {
   "cell_type": "code",
   "execution_count": 72,
   "outputs": [
    {
     "data": {
      "text/plain": "                                                    微博正文             发布时间   ip\n0      美国专家认为乌克兰境内已没有受过西方训练的乌克兰军人俄罗斯军队摧毁了几乎所有曾经按照北约标准...  2023/10/3 18:21   吉林\n1      终于更新了图一巴赫穆特以南的情况乌军仍在铁路附近和以北取得小幅进展而在及其周围的所有进攻都被...   2023/10/3 9:27   四川\n2      乌克兰排除以放弃若干领土换取加入北约可能性乌克兰不会拿领土做交换据俄罗斯报纸网月日报道乌克兰...  2023/10/2 22:28   安徽\n3      乌克兰不会拿领土做交换来加入北约据俄罗斯报纸网月日报道乌克兰议会电视频道援引乌克兰外交部副部...  2023/10/2 18:00  NaN\n4      乌克兰不会拿领土做交换据俄罗斯报纸网月日报道乌克兰议会电视频道援引乌克兰外交部副部长叶夫根尼...  2023/10/2 15:13   上海\n...                                                  ...              ...  ...\n96800                                   巴以冲突已致双方超人死亡世界和平  2023/10/19 8:00   浙江\n96801  加沙地带一学校遭轰炸致人员伤亡目前巴以冲突超人死亡其中巴勒斯坦方面人死亡以色列至少人死亡据阿...  2023/10/19 8:00  NaN\n96802  我驻以色列使馆尽快回国或离境巴总统宣布全国哀悼三天目前新一轮大规模巴以冲突愈演愈烈以色列宣布...  2023/10/19 8:00  NaN\n96803  求实论事巴勒斯坦裔作家西方国家正在发动针对巴勒斯坦人民的信息战中文描述中东局势动荡不止巴以冲...  2023/10/19 8:00  NaN\n96804  加沙地带一学校遭轰炸致人员伤亡目前巴以冲突超人死亡其中巴勒斯坦方面人死亡以色列至少人死亡据阿...  2023/10/19 8:00  NaN\n\n[96805 rows x 3 columns]",
      "text/html": "<div>\n<style scoped>\n    .dataframe tbody tr th:only-of-type {\n        vertical-align: middle;\n    }\n\n    .dataframe tbody tr th {\n        vertical-align: top;\n    }\n\n    .dataframe thead th {\n        text-align: right;\n    }\n</style>\n<table border=\"1\" class=\"dataframe\">\n  <thead>\n    <tr style=\"text-align: right;\">\n      <th></th>\n      <th>微博正文</th>\n      <th>发布时间</th>\n      <th>ip</th>\n    </tr>\n  </thead>\n  <tbody>\n    <tr>\n      <th>0</th>\n      <td>美国专家认为乌克兰境内已没有受过西方训练的乌克兰军人俄罗斯军队摧毁了几乎所有曾经按照北约标准...</td>\n      <td>2023/10/3 18:21</td>\n      <td>吉林</td>\n    </tr>\n    <tr>\n      <th>1</th>\n      <td>终于更新了图一巴赫穆特以南的情况乌军仍在铁路附近和以北取得小幅进展而在及其周围的所有进攻都被...</td>\n      <td>2023/10/3 9:27</td>\n      <td>四川</td>\n    </tr>\n    <tr>\n      <th>2</th>\n      <td>乌克兰排除以放弃若干领土换取加入北约可能性乌克兰不会拿领土做交换据俄罗斯报纸网月日报道乌克兰...</td>\n      <td>2023/10/2 22:28</td>\n      <td>安徽</td>\n    </tr>\n    <tr>\n      <th>3</th>\n      <td>乌克兰不会拿领土做交换来加入北约据俄罗斯报纸网月日报道乌克兰议会电视频道援引乌克兰外交部副部...</td>\n      <td>2023/10/2 18:00</td>\n      <td>NaN</td>\n    </tr>\n    <tr>\n      <th>4</th>\n      <td>乌克兰不会拿领土做交换据俄罗斯报纸网月日报道乌克兰议会电视频道援引乌克兰外交部副部长叶夫根尼...</td>\n      <td>2023/10/2 15:13</td>\n      <td>上海</td>\n    </tr>\n    <tr>\n      <th>...</th>\n      <td>...</td>\n      <td>...</td>\n      <td>...</td>\n    </tr>\n    <tr>\n      <th>96800</th>\n      <td>巴以冲突已致双方超人死亡世界和平</td>\n      <td>2023/10/19 8:00</td>\n      <td>浙江</td>\n    </tr>\n    <tr>\n      <th>96801</th>\n      <td>加沙地带一学校遭轰炸致人员伤亡目前巴以冲突超人死亡其中巴勒斯坦方面人死亡以色列至少人死亡据阿...</td>\n      <td>2023/10/19 8:00</td>\n      <td>NaN</td>\n    </tr>\n    <tr>\n      <th>96802</th>\n      <td>我驻以色列使馆尽快回国或离境巴总统宣布全国哀悼三天目前新一轮大规模巴以冲突愈演愈烈以色列宣布...</td>\n      <td>2023/10/19 8:00</td>\n      <td>NaN</td>\n    </tr>\n    <tr>\n      <th>96803</th>\n      <td>求实论事巴勒斯坦裔作家西方国家正在发动针对巴勒斯坦人民的信息战中文描述中东局势动荡不止巴以冲...</td>\n      <td>2023/10/19 8:00</td>\n      <td>NaN</td>\n    </tr>\n    <tr>\n      <th>96804</th>\n      <td>加沙地带一学校遭轰炸致人员伤亡目前巴以冲突超人死亡其中巴勒斯坦方面人死亡以色列至少人死亡据阿...</td>\n      <td>2023/10/19 8:00</td>\n      <td>NaN</td>\n    </tr>\n  </tbody>\n</table>\n<p>96805 rows × 3 columns</p>\n</div>"
     },
     "execution_count": 72,
     "metadata": {},
     "output_type": "execute_result"
    }
   ],
   "source": [
    "# 只保留汉字\n",
    "def is_chinese(uchar):\n",
    "    if uchar >= u'\\u4e00' and uchar <= u'\\u9fa5':\n",
    "        return True\n",
    "    else:\n",
    "        return False\n",
    "\n",
    "def format_str(content):\n",
    "    content_str = ''\n",
    "    for i in content:\n",
    "        if is_chinese(i):\n",
    "            content_str = content_str + i\n",
    "    return content_str\n",
    "\n",
    "data.iloc[:,0] = list(map(format_str, data.iloc[:,0]))\n",
    "data"
   ],
   "metadata": {
    "collapsed": false
   }
  },
  {
   "cell_type": "code",
   "execution_count": 73,
   "outputs": [
    {
     "data": {
      "text/plain": "                                                    微博正文             发布时间   ip\n0      美国专家认为乌克兰境内已没有受过西方训练的乌克兰军人俄罗斯军队摧毁了几乎所有曾经按照北约标准...  2023/10/3 18:21   吉林\n1      终于更新了图一巴赫穆特以南的情况乌军仍在铁路附近和以北取得小幅进展而在及其周围的所有进攻都被...   2023/10/3 9:27   四川\n2      乌克兰排除以放弃若干领土换取加入北约可能性乌克兰不会拿领土做交换据俄罗斯报纸网月日报道乌克兰...  2023/10/2 22:28   安徽\n3      乌克兰不会拿领土做交换来加入北约据俄罗斯报纸网月日报道乌克兰议会电视频道援引乌克兰外交部副部...  2023/10/2 18:00  NaN\n4      乌克兰不会拿领土做交换据俄罗斯报纸网月日报道乌克兰议会电视频道援引乌克兰外交部副部长叶夫根尼...  2023/10/2 15:13   上海\n...                                                  ...              ...  ...\n96796  巴总统宣布全国哀悼三天网友对巴以冲突的影响分析你觉得有道理吗哈马斯的火箭弹虽说打在了以色列的...  2023/10/19 8:00   广东\n96797  巴总统宣布全国哀悼三天黎以剧烈交火以称已准备好两线作战月日以色列继续对加沙地带展开空袭以军表...  2023/10/19 8:00  NaN\n96799                           巴以冲突已致双方超人死亡真看不得那些受伤的小孩子  2023/10/19 8:00   山东\n96802  我驻以色列使馆尽快回国或离境巴总统宣布全国哀悼三天目前新一轮大规模巴以冲突愈演愈烈以色列宣布...  2023/10/19 8:00  NaN\n96803  求实论事巴勒斯坦裔作家西方国家正在发动针对巴勒斯坦人民的信息战中文描述中东局势动荡不止巴以冲...  2023/10/19 8:00  NaN\n\n[80561 rows x 3 columns]",
      "text/html": "<div>\n<style scoped>\n    .dataframe tbody tr th:only-of-type {\n        vertical-align: middle;\n    }\n\n    .dataframe tbody tr th {\n        vertical-align: top;\n    }\n\n    .dataframe thead th {\n        text-align: right;\n    }\n</style>\n<table border=\"1\" class=\"dataframe\">\n  <thead>\n    <tr style=\"text-align: right;\">\n      <th></th>\n      <th>微博正文</th>\n      <th>发布时间</th>\n      <th>ip</th>\n    </tr>\n  </thead>\n  <tbody>\n    <tr>\n      <th>0</th>\n      <td>美国专家认为乌克兰境内已没有受过西方训练的乌克兰军人俄罗斯军队摧毁了几乎所有曾经按照北约标准...</td>\n      <td>2023/10/3 18:21</td>\n      <td>吉林</td>\n    </tr>\n    <tr>\n      <th>1</th>\n      <td>终于更新了图一巴赫穆特以南的情况乌军仍在铁路附近和以北取得小幅进展而在及其周围的所有进攻都被...</td>\n      <td>2023/10/3 9:27</td>\n      <td>四川</td>\n    </tr>\n    <tr>\n      <th>2</th>\n      <td>乌克兰排除以放弃若干领土换取加入北约可能性乌克兰不会拿领土做交换据俄罗斯报纸网月日报道乌克兰...</td>\n      <td>2023/10/2 22:28</td>\n      <td>安徽</td>\n    </tr>\n    <tr>\n      <th>3</th>\n      <td>乌克兰不会拿领土做交换来加入北约据俄罗斯报纸网月日报道乌克兰议会电视频道援引乌克兰外交部副部...</td>\n      <td>2023/10/2 18:00</td>\n      <td>NaN</td>\n    </tr>\n    <tr>\n      <th>4</th>\n      <td>乌克兰不会拿领土做交换据俄罗斯报纸网月日报道乌克兰议会电视频道援引乌克兰外交部副部长叶夫根尼...</td>\n      <td>2023/10/2 15:13</td>\n      <td>上海</td>\n    </tr>\n    <tr>\n      <th>...</th>\n      <td>...</td>\n      <td>...</td>\n      <td>...</td>\n    </tr>\n    <tr>\n      <th>96796</th>\n      <td>巴总统宣布全国哀悼三天网友对巴以冲突的影响分析你觉得有道理吗哈马斯的火箭弹虽说打在了以色列的...</td>\n      <td>2023/10/19 8:00</td>\n      <td>广东</td>\n    </tr>\n    <tr>\n      <th>96797</th>\n      <td>巴总统宣布全国哀悼三天黎以剧烈交火以称已准备好两线作战月日以色列继续对加沙地带展开空袭以军表...</td>\n      <td>2023/10/19 8:00</td>\n      <td>NaN</td>\n    </tr>\n    <tr>\n      <th>96799</th>\n      <td>巴以冲突已致双方超人死亡真看不得那些受伤的小孩子</td>\n      <td>2023/10/19 8:00</td>\n      <td>山东</td>\n    </tr>\n    <tr>\n      <th>96802</th>\n      <td>我驻以色列使馆尽快回国或离境巴总统宣布全国哀悼三天目前新一轮大规模巴以冲突愈演愈烈以色列宣布...</td>\n      <td>2023/10/19 8:00</td>\n      <td>NaN</td>\n    </tr>\n    <tr>\n      <th>96803</th>\n      <td>求实论事巴勒斯坦裔作家西方国家正在发动针对巴勒斯坦人民的信息战中文描述中东局势动荡不止巴以冲...</td>\n      <td>2023/10/19 8:00</td>\n      <td>NaN</td>\n    </tr>\n  </tbody>\n</table>\n<p>80561 rows × 3 columns</p>\n</div>"
     },
     "execution_count": 73,
     "metadata": {},
     "output_type": "execute_result"
    }
   ],
   "source": [
    "# 去重\n",
    "data = data.drop_duplicates(['微博正文'],keep='first')\n",
    "data"
   ],
   "metadata": {
    "collapsed": false
   }
  },
  {
   "cell_type": "code",
   "execution_count": 74,
   "outputs": [
    {
     "data": {
      "text/plain": "                                                    微博正文             发布时间   ip\n0      [美国/ns, 专家/n, 认为/v, 乌克兰/nr, 境内/s, 已/d, 没有/v, 受...  2023/10/3 18:21   吉林\n1      [终于/d, 更新/d, 了图/v, 一/m, 巴赫/nr, 穆特/nrt, 以南/f, 的...   2023/10/3 9:27   四川\n2      [乌克兰/nr, 排除/v, 以/p, 放弃/v, 若干/m, 领土/n, 换取/v, 加入...  2023/10/2 22:28   安徽\n3      [乌克兰/nr, 不会/v, 拿/v, 领土/n, 做/v, 交换/v, 来/v, 加入/v...  2023/10/2 18:00  NaN\n4      [乌克兰/nr, 不会/v, 拿/v, 领土/n, 做/v, 交换/v, 据/p, 俄罗斯/...  2023/10/2 15:13   上海\n...                                                  ...              ...  ...\n96796  [巴/ns, 总统/n, 宣布/v, 全国/n, 哀悼/v, 三天/m, 网友/n, 对/p...  2023/10/19 8:00   广东\n96797  [巴/ns, 总统/n, 宣布/v, 全国/n, 哀悼/v, 三天/m, 黎以/nr, 剧烈...  2023/10/19 8:00  NaN\n96799  [巴以冲突/x, 已致/d, 双方/n, 超人/n, 死亡/v, 真/d, 看不得/v, 那...  2023/10/19 8:00   山东\n96802  [我/r, 驻/v, 以色列/ns, 使馆/n, 尽快/d, 回国/ns, 或/c, 离境/...  2023/10/19 8:00  NaN\n96803  [求实/v, 论/zg, 事/n, 巴勒斯坦/ns, 裔/nr, 作家/n, 西方/s, 国...  2023/10/19 8:00  NaN\n\n[80561 rows x 3 columns]",
      "text/html": "<div>\n<style scoped>\n    .dataframe tbody tr th:only-of-type {\n        vertical-align: middle;\n    }\n\n    .dataframe tbody tr th {\n        vertical-align: top;\n    }\n\n    .dataframe thead th {\n        text-align: right;\n    }\n</style>\n<table border=\"1\" class=\"dataframe\">\n  <thead>\n    <tr style=\"text-align: right;\">\n      <th></th>\n      <th>微博正文</th>\n      <th>发布时间</th>\n      <th>ip</th>\n    </tr>\n  </thead>\n  <tbody>\n    <tr>\n      <th>0</th>\n      <td>[美国/ns, 专家/n, 认为/v, 乌克兰/nr, 境内/s, 已/d, 没有/v, 受...</td>\n      <td>2023/10/3 18:21</td>\n      <td>吉林</td>\n    </tr>\n    <tr>\n      <th>1</th>\n      <td>[终于/d, 更新/d, 了图/v, 一/m, 巴赫/nr, 穆特/nrt, 以南/f, 的...</td>\n      <td>2023/10/3 9:27</td>\n      <td>四川</td>\n    </tr>\n    <tr>\n      <th>2</th>\n      <td>[乌克兰/nr, 排除/v, 以/p, 放弃/v, 若干/m, 领土/n, 换取/v, 加入...</td>\n      <td>2023/10/2 22:28</td>\n      <td>安徽</td>\n    </tr>\n    <tr>\n      <th>3</th>\n      <td>[乌克兰/nr, 不会/v, 拿/v, 领土/n, 做/v, 交换/v, 来/v, 加入/v...</td>\n      <td>2023/10/2 18:00</td>\n      <td>NaN</td>\n    </tr>\n    <tr>\n      <th>4</th>\n      <td>[乌克兰/nr, 不会/v, 拿/v, 领土/n, 做/v, 交换/v, 据/p, 俄罗斯/...</td>\n      <td>2023/10/2 15:13</td>\n      <td>上海</td>\n    </tr>\n    <tr>\n      <th>...</th>\n      <td>...</td>\n      <td>...</td>\n      <td>...</td>\n    </tr>\n    <tr>\n      <th>96796</th>\n      <td>[巴/ns, 总统/n, 宣布/v, 全国/n, 哀悼/v, 三天/m, 网友/n, 对/p...</td>\n      <td>2023/10/19 8:00</td>\n      <td>广东</td>\n    </tr>\n    <tr>\n      <th>96797</th>\n      <td>[巴/ns, 总统/n, 宣布/v, 全国/n, 哀悼/v, 三天/m, 黎以/nr, 剧烈...</td>\n      <td>2023/10/19 8:00</td>\n      <td>NaN</td>\n    </tr>\n    <tr>\n      <th>96799</th>\n      <td>[巴以冲突/x, 已致/d, 双方/n, 超人/n, 死亡/v, 真/d, 看不得/v, 那...</td>\n      <td>2023/10/19 8:00</td>\n      <td>山东</td>\n    </tr>\n    <tr>\n      <th>96802</th>\n      <td>[我/r, 驻/v, 以色列/ns, 使馆/n, 尽快/d, 回国/ns, 或/c, 离境/...</td>\n      <td>2023/10/19 8:00</td>\n      <td>NaN</td>\n    </tr>\n    <tr>\n      <th>96803</th>\n      <td>[求实/v, 论/zg, 事/n, 巴勒斯坦/ns, 裔/nr, 作家/n, 西方/s, 国...</td>\n      <td>2023/10/19 8:00</td>\n      <td>NaN</td>\n    </tr>\n  </tbody>\n</table>\n<p>80561 rows × 3 columns</p>\n</div>"
     },
     "execution_count": 74,
     "metadata": {},
     "output_type": "execute_result"
    }
   ],
   "source": [
    "# 对文本进行jieba分词\n",
    "import jieba\n",
    "import jieba.posseg as pseg\n",
    "import pickle\n",
    "import os\n",
    "# 词性pickle文件的保存路径\n",
    "pos_filename = os.path.join('data','interim',os.path.basename(raw_data_path).split('.')[0]+'pos.pickle')\n",
    "# 如果存在词性pickle文件，则直接加载\n",
    "if os.path.exists(pos_filename):\n",
    "    with open(pos_filename, 'rb') as f:\n",
    "        data = pickle.load(f)\n",
    "else: # 没有则生成\n",
    "    jieba.load_userdict('data/补充词典.txt')\n",
    "    data.iloc[:,0] = list(map(lambda s:list(pseg.cut(s,use_paddle=True)),data.iloc[:,0]))\n",
    "    # data.iloc[:,0] = list(map(lambda s:list(jieba.cut(s,use_paddle=True)),data.iloc[:,0]))\n",
    "    with open(pos_filename,'wb') as f:\n",
    "        pickle.dump(data, f)\n",
    "data"
   ],
   "metadata": {
    "collapsed": false
   }
  },
  {
   "cell_type": "code",
   "execution_count": 75,
   "outputs": [],
   "source": [
    "# 根据词性删除虚词\n",
    "# data.drop(data[data.iloc[:,0]<10],inplace=True)\n",
    "for i in range(len(data)):\n",
    "    data.iloc[i,0] = list(filter(lambda x: x.flag not in ['t', 'p', 'm', 'q', 'r', 'y', 'u', 'm'], data.iloc[i,0]))\n",
    "# 删除单个字的词\n",
    "data.iloc[:,0] = [[word.word for word in line if len(word.word)>1]for line in data.iloc[:,0]]\n",
    "backup_data = data"
   ],
   "metadata": {
    "collapsed": false
   }
  },
  {
   "cell_type": "code",
   "execution_count": 76,
   "outputs": [
    {
     "data": {
      "text/plain": "71"
     },
     "execution_count": 76,
     "metadata": {},
     "output_type": "execute_result"
    }
   ],
   "source": [
    "# 去掉文本中的停用词\n",
    "def drop_stopwords(contents, stopwords):\n",
    "    contents_clean = []\n",
    "    for line in contents:\n",
    "        line_clean = []\n",
    "        for word in line:\n",
    "            if word in stopwords:\n",
    "                continue\n",
    "            line_clean.append(word)\n",
    "        contents_clean.append(line_clean)\n",
    "    return contents_clean\n",
    "stopwords = []\n",
    "with open('data/停用词.txt','r',encoding='utf8') as f:\n",
    "    stopwords = f.readlines()\n",
    "stopwords = set(map(lambda s:s.replace('\\n',''),stopwords))\n",
    "stopwords\n",
    "data.iloc[:,0] = drop_stopwords(data.iloc[:,0], stopwords)\n",
    "# data = data[data['微博正文'].apply(lambda x: 30 < len(x) < 50)]\n",
    "data = data[data['微博正文'].apply(lambda x:len(x) > 70)]\n",
    "min(list(map(len, data.iloc[:,0])))"
   ],
   "metadata": {
    "collapsed": false
   }
  },
  {
   "cell_type": "code",
   "execution_count": 77,
   "outputs": [
    {
     "data": {
      "text/plain": "13484"
     },
     "execution_count": 77,
     "metadata": {},
     "output_type": "execute_result"
    }
   ],
   "source": [
    "# 保存处理后数据\n",
    "# 处理后数据文件名\n",
    "processed_filename = f'weibo_{month}_processed'\n",
    "data.to_csv(os.path.join('data','processed',processed_filename+'.csv'), encoding='utf_8_sig')\n",
    "with open(os.path.join('data','processed',processed_filename+'.txt'),'w+', encoding='utf8') as f:\n",
    "    f.writelines([' '.join(line)+'\\n' for line in data.iloc[:,0]])\n",
    "\n",
    "len(data)"
   ],
   "metadata": {
    "collapsed": false
   }
  },
  {
   "cell_type": "code",
   "execution_count": 34,
   "outputs": [
    {
     "name": "stdout",
     "output_type": "stream",
     "text": [
      "54311\n",
      "[[0 0 0 ... 0 0 0]\n",
      " [0 0 0 ... 0 0 0]\n",
      " [0 0 0 ... 0 0 0]\n",
      " ...\n",
      " [0 0 0 ... 0 0 0]\n",
      " [0 0 0 ... 0 0 0]\n",
      " [0 0 0 ... 0 0 0]]\n",
      "(7756, 54311)\n"
     ]
    }
   ],
   "source": [
    "from sklearn.feature_extraction.text import CountVectorizer\n",
    "#将文本中的词转换成词频矩阵\n",
    "vectorizer = CountVectorizer()\n",
    "# print(vectorizer)\n",
    "corpus = [' '.join(line) for line in data.iloc[:,0]]\n",
    "#计算某个词出现的次数\n",
    "X = vectorizer.fit_transform(corpus)\n",
    "# print(type(X),X)\n",
    "#获取词袋中所有文本关键词\n",
    "word = vectorizer.get_feature_names_out()\n",
    "print(len(word))\n",
    "#查看词频结果\n",
    "print(X.toarray())\n",
    "print(X.shape)"
   ],
   "metadata": {
    "collapsed": false
   }
  },
  {
   "cell_type": "code",
   "execution_count": 40,
   "outputs": [
    {
     "data": {
      "text/plain": "144"
     },
     "execution_count": 40,
     "metadata": {},
     "output_type": "execute_result"
    }
   ],
   "source": [
    "import pickle\n",
    "with open('data/interim/dec_doc_topic_mat.pickle','rb') as f:\n",
    "    mat = pickle.load(f)\n",
    "sum(list(map(lambda x:1 if len(x)<10 else 0, mat)))\n",
    "# mat"
   ],
   "metadata": {
    "collapsed": false
   }
  },
  {
   "cell_type": "code",
   "execution_count": null,
   "outputs": [],
   "source": [],
   "metadata": {
    "collapsed": false
   }
  }
 ],
 "metadata": {
  "kernelspec": {
   "display_name": "Python 3",
   "language": "python",
   "name": "python3"
  },
  "language_info": {
   "codemirror_mode": {
    "name": "ipython",
    "version": 2
   },
   "file_extension": ".py",
   "mimetype": "text/x-python",
   "name": "python",
   "nbconvert_exporter": "python",
   "pygments_lexer": "ipython2",
   "version": "2.7.6"
  }
 },
 "nbformat": 4,
 "nbformat_minor": 0
}
