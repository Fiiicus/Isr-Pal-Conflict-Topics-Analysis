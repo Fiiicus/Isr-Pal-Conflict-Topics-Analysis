{
 "cells": [
  {
   "cell_type": "code",
   "execution_count": 173,
   "metadata": {
    "collapsed": true
   },
   "outputs": [],
   "source": [
    "import pandas as pd"
   ]
  },
  {
   "cell_type": "code",
   "execution_count": 174,
   "outputs": [
    {
     "data": {
      "text/plain": "                                                微博正文            发布时间   ip\n0  【联合国机构：#本轮巴以冲突影响加沙地带超40万学生#】每经AI快讯，半岛电视台当地时间1月...  2024/1/6 23:48  NaN\n1          #巴以冲突#伊朗报纸《Hamshahri》：我们将对犹太复国主义者进行最后的报复。  2024/1/6 23:33   贵州\n2  朝鲜200发炮弹震惊世界，让美国很难受！这一炮表面上看起来是警告韩国，实则是警告美国。俄乌战...  2024/1/6 23:24   广东\n3  巴勒斯坦“圣城旅”发布了一段有趣的加沙作战视频：他们在加沙市南部的扎伊图恩社区以南锁定了以色...  2024/1/1 23:57   陕西\n4  #巴以冲突#以色列军队在约旦河西岸杰里科市入口处，用巨石砸毁了一辆巴勒斯坦人的汽车。车主此前...  2024/1/6 23:16   广东",
      "text/html": "<div>\n<style scoped>\n    .dataframe tbody tr th:only-of-type {\n        vertical-align: middle;\n    }\n\n    .dataframe tbody tr th {\n        vertical-align: top;\n    }\n\n    .dataframe thead th {\n        text-align: right;\n    }\n</style>\n<table border=\"1\" class=\"dataframe\">\n  <thead>\n    <tr style=\"text-align: right;\">\n      <th></th>\n      <th>微博正文</th>\n      <th>发布时间</th>\n      <th>ip</th>\n    </tr>\n  </thead>\n  <tbody>\n    <tr>\n      <th>0</th>\n      <td>【联合国机构：#本轮巴以冲突影响加沙地带超40万学生#】每经AI快讯，半岛电视台当地时间1月...</td>\n      <td>2024/1/6 23:48</td>\n      <td>NaN</td>\n    </tr>\n    <tr>\n      <th>1</th>\n      <td>#巴以冲突#伊朗报纸《Hamshahri》：我们将对犹太复国主义者进行最后的报复。</td>\n      <td>2024/1/6 23:33</td>\n      <td>贵州</td>\n    </tr>\n    <tr>\n      <th>2</th>\n      <td>朝鲜200发炮弹震惊世界，让美国很难受！这一炮表面上看起来是警告韩国，实则是警告美国。俄乌战...</td>\n      <td>2024/1/6 23:24</td>\n      <td>广东</td>\n    </tr>\n    <tr>\n      <th>3</th>\n      <td>巴勒斯坦“圣城旅”发布了一段有趣的加沙作战视频：他们在加沙市南部的扎伊图恩社区以南锁定了以色...</td>\n      <td>2024/1/1 23:57</td>\n      <td>陕西</td>\n    </tr>\n    <tr>\n      <th>4</th>\n      <td>#巴以冲突#以色列军队在约旦河西岸杰里科市入口处，用巨石砸毁了一辆巴勒斯坦人的汽车。车主此前...</td>\n      <td>2024/1/6 23:16</td>\n      <td>广东</td>\n    </tr>\n  </tbody>\n</table>\n</div>"
     },
     "execution_count": 174,
     "metadata": {},
     "output_type": "execute_result"
    }
   ],
   "source": [
    "# 原始数据路径\n",
    "month = 'new'\n",
    "raw_data_path = f'data/raw/巴以冲突{month}.csv'\n",
    "data = pd.read_csv(raw_data_path, encoding='utf8')\n",
    "data.head()"
   ],
   "metadata": {
    "collapsed": false
   }
  },
  {
   "cell_type": "code",
   "execution_count": 175,
   "outputs": [
    {
     "data": {
      "text/plain": "                                                   微博正文            发布时间   ip\n0     【联合国机构：】每经AI快讯，半岛电视台当地时间1月6日援引联合国人道主义事务协调厅消息称，...  2024/1/6 23:48  NaN\n1                   伊朗报纸《Hamshahri》：我们将对犹太复国主义者进行最后的报复。  2024/1/6 23:33   贵州\n2     朝鲜200发炮弹震惊世界，让美国很难受！这一炮表面上看起来是警告韩国，实则是警告美国。俄乌战...  2024/1/6 23:24   广东\n3     巴勒斯坦“圣城旅”发布了一段有趣的加沙作战视频：他们在加沙市南部的扎伊图恩社区以南锁定了以色...  2024/1/1 23:57   陕西\n4     以色列军队在约旦河西岸杰里科市入口处，用巨石砸毁了一辆巴勒斯坦人的汽车。车主此前已经被以色列...  2024/1/6 23:16   广东\n...                                                 ...             ...  ...\n1735  ��🇱🇱🇧据报道，黎巴嫩首都贝鲁特南郊的真主党控制区域发生了剧烈爆炸。现场发生了大火。目前还...   2024/1/3 0:32   广东\n1736                                   教你不要重蹈覆辙，你还反唇相讥。   2024/1/3 0:27   云南\n1737                  建个话痨群，更新一些不占用微博板面的信息消息实况互动群海岸猎人水相   2024/1/3 0:09   广西\n1738  箭头社地图作者地图更新图一、塞弗尔斯克方向俄年伞兵从两侧逼近韦塞洛耶村，占领了一些据点。图二...   2024/1/3 0:07   广西\n1739  以色列伞兵旅的成员伊利沙·马丁是犹太教拉比雅科夫·马丁的儿子，他的部队在加沙地区遭到巴勒斯坦...   2024/1/3 0:05   陕西\n\n[1740 rows x 3 columns]",
      "text/html": "<div>\n<style scoped>\n    .dataframe tbody tr th:only-of-type {\n        vertical-align: middle;\n    }\n\n    .dataframe tbody tr th {\n        vertical-align: top;\n    }\n\n    .dataframe thead th {\n        text-align: right;\n    }\n</style>\n<table border=\"1\" class=\"dataframe\">\n  <thead>\n    <tr style=\"text-align: right;\">\n      <th></th>\n      <th>微博正文</th>\n      <th>发布时间</th>\n      <th>ip</th>\n    </tr>\n  </thead>\n  <tbody>\n    <tr>\n      <th>0</th>\n      <td>【联合国机构：】每经AI快讯，半岛电视台当地时间1月6日援引联合国人道主义事务协调厅消息称，...</td>\n      <td>2024/1/6 23:48</td>\n      <td>NaN</td>\n    </tr>\n    <tr>\n      <th>1</th>\n      <td>伊朗报纸《Hamshahri》：我们将对犹太复国主义者进行最后的报复。</td>\n      <td>2024/1/6 23:33</td>\n      <td>贵州</td>\n    </tr>\n    <tr>\n      <th>2</th>\n      <td>朝鲜200发炮弹震惊世界，让美国很难受！这一炮表面上看起来是警告韩国，实则是警告美国。俄乌战...</td>\n      <td>2024/1/6 23:24</td>\n      <td>广东</td>\n    </tr>\n    <tr>\n      <th>3</th>\n      <td>巴勒斯坦“圣城旅”发布了一段有趣的加沙作战视频：他们在加沙市南部的扎伊图恩社区以南锁定了以色...</td>\n      <td>2024/1/1 23:57</td>\n      <td>陕西</td>\n    </tr>\n    <tr>\n      <th>4</th>\n      <td>以色列军队在约旦河西岸杰里科市入口处，用巨石砸毁了一辆巴勒斯坦人的汽车。车主此前已经被以色列...</td>\n      <td>2024/1/6 23:16</td>\n      <td>广东</td>\n    </tr>\n    <tr>\n      <th>...</th>\n      <td>...</td>\n      <td>...</td>\n      <td>...</td>\n    </tr>\n    <tr>\n      <th>1735</th>\n      <td>��🇱🇱🇧据报道，黎巴嫩首都贝鲁特南郊的真主党控制区域发生了剧烈爆炸。现场发生了大火。目前还...</td>\n      <td>2024/1/3 0:32</td>\n      <td>广东</td>\n    </tr>\n    <tr>\n      <th>1736</th>\n      <td>教你不要重蹈覆辙，你还反唇相讥。</td>\n      <td>2024/1/3 0:27</td>\n      <td>云南</td>\n    </tr>\n    <tr>\n      <th>1737</th>\n      <td>建个话痨群，更新一些不占用微博板面的信息消息实况互动群海岸猎人水相</td>\n      <td>2024/1/3 0:09</td>\n      <td>广西</td>\n    </tr>\n    <tr>\n      <th>1738</th>\n      <td>箭头社地图作者地图更新图一、塞弗尔斯克方向俄年伞兵从两侧逼近韦塞洛耶村，占领了一些据点。图二...</td>\n      <td>2024/1/3 0:07</td>\n      <td>广西</td>\n    </tr>\n    <tr>\n      <th>1739</th>\n      <td>以色列伞兵旅的成员伊利沙·马丁是犹太教拉比雅科夫·马丁的儿子，他的部队在加沙地区遭到巴勒斯坦...</td>\n      <td>2024/1/3 0:05</td>\n      <td>陕西</td>\n    </tr>\n  </tbody>\n</table>\n<p>1740 rows × 3 columns</p>\n</div>"
     },
     "execution_count": 175,
     "metadata": {},
     "output_type": "execute_result"
    }
   ],
   "source": [
    "import re\n",
    "data.iloc[:,0] = list(map(lambda line: re.sub(r'L.*微博视频','',line), data.iloc[:,0]))\n",
    "data.iloc[:,0] = list(map(lambda line: re.sub(r'#.*#','',line), data.iloc[:,0]))\n",
    "data"
   ],
   "metadata": {
    "collapsed": false
   }
  },
  {
   "cell_type": "code",
   "execution_count": 176,
   "outputs": [
    {
     "data": {
      "text/plain": "                                                   微博正文            发布时间   ip\n0     联合国机构每经快讯半岛电视台当地时间月日援引联合国人道主义事务协调厅消息称本轮巴以冲突影响了...  2024/1/6 23:48  NaN\n1                                伊朗报纸我们将对犹太复国主义者进行最后的报复  2024/1/6 23:33   贵州\n2     朝鲜发炮弹震惊世界让美国很难受这一炮表面上看起来是警告韩国实则是警告美国俄乌战争巴以冲突胡塞...  2024/1/6 23:24   广东\n3     巴勒斯坦圣城旅发布了一段有趣的加沙作战视频他们在加沙市南部的扎伊图恩社区以南锁定了以色列军队...  2024/1/1 23:57   陕西\n4     以色列军队在约旦河西岸杰里科市入口处用巨石砸毁了一辆巴勒斯坦人的汽车车主此前已经被以色列当局...  2024/1/6 23:16   广东\n...                                                 ...             ...  ...\n1735  据报道黎巴嫩首都贝鲁特南郊的真主党控制区域发生了剧烈爆炸现场发生了大火目前还没有关于爆炸原因...   2024/1/3 0:32   广东\n1736                                     教你不要重蹈覆辙你还反唇相讥   2024/1/3 0:27   云南\n1737                   建个话痨群更新一些不占用微博板面的信息消息实况互动群海岸猎人水相   2024/1/3 0:09   广西\n1738  箭头社地图作者地图更新图一塞弗尔斯克方向俄年伞兵从两侧逼近韦塞洛耶村占领了一些据点图二阿夫迪...   2024/1/3 0:07   广西\n1739  以色列伞兵旅的成员伊利沙马丁是犹太教拉比雅科夫马丁的儿子他的部队在加沙地区遭到巴勒斯坦抵抗武...   2024/1/3 0:05   陕西\n\n[1740 rows x 3 columns]",
      "text/html": "<div>\n<style scoped>\n    .dataframe tbody tr th:only-of-type {\n        vertical-align: middle;\n    }\n\n    .dataframe tbody tr th {\n        vertical-align: top;\n    }\n\n    .dataframe thead th {\n        text-align: right;\n    }\n</style>\n<table border=\"1\" class=\"dataframe\">\n  <thead>\n    <tr style=\"text-align: right;\">\n      <th></th>\n      <th>微博正文</th>\n      <th>发布时间</th>\n      <th>ip</th>\n    </tr>\n  </thead>\n  <tbody>\n    <tr>\n      <th>0</th>\n      <td>联合国机构每经快讯半岛电视台当地时间月日援引联合国人道主义事务协调厅消息称本轮巴以冲突影响了...</td>\n      <td>2024/1/6 23:48</td>\n      <td>NaN</td>\n    </tr>\n    <tr>\n      <th>1</th>\n      <td>伊朗报纸我们将对犹太复国主义者进行最后的报复</td>\n      <td>2024/1/6 23:33</td>\n      <td>贵州</td>\n    </tr>\n    <tr>\n      <th>2</th>\n      <td>朝鲜发炮弹震惊世界让美国很难受这一炮表面上看起来是警告韩国实则是警告美国俄乌战争巴以冲突胡塞...</td>\n      <td>2024/1/6 23:24</td>\n      <td>广东</td>\n    </tr>\n    <tr>\n      <th>3</th>\n      <td>巴勒斯坦圣城旅发布了一段有趣的加沙作战视频他们在加沙市南部的扎伊图恩社区以南锁定了以色列军队...</td>\n      <td>2024/1/1 23:57</td>\n      <td>陕西</td>\n    </tr>\n    <tr>\n      <th>4</th>\n      <td>以色列军队在约旦河西岸杰里科市入口处用巨石砸毁了一辆巴勒斯坦人的汽车车主此前已经被以色列当局...</td>\n      <td>2024/1/6 23:16</td>\n      <td>广东</td>\n    </tr>\n    <tr>\n      <th>...</th>\n      <td>...</td>\n      <td>...</td>\n      <td>...</td>\n    </tr>\n    <tr>\n      <th>1735</th>\n      <td>据报道黎巴嫩首都贝鲁特南郊的真主党控制区域发生了剧烈爆炸现场发生了大火目前还没有关于爆炸原因...</td>\n      <td>2024/1/3 0:32</td>\n      <td>广东</td>\n    </tr>\n    <tr>\n      <th>1736</th>\n      <td>教你不要重蹈覆辙你还反唇相讥</td>\n      <td>2024/1/3 0:27</td>\n      <td>云南</td>\n    </tr>\n    <tr>\n      <th>1737</th>\n      <td>建个话痨群更新一些不占用微博板面的信息消息实况互动群海岸猎人水相</td>\n      <td>2024/1/3 0:09</td>\n      <td>广西</td>\n    </tr>\n    <tr>\n      <th>1738</th>\n      <td>箭头社地图作者地图更新图一塞弗尔斯克方向俄年伞兵从两侧逼近韦塞洛耶村占领了一些据点图二阿夫迪...</td>\n      <td>2024/1/3 0:07</td>\n      <td>广西</td>\n    </tr>\n    <tr>\n      <th>1739</th>\n      <td>以色列伞兵旅的成员伊利沙马丁是犹太教拉比雅科夫马丁的儿子他的部队在加沙地区遭到巴勒斯坦抵抗武...</td>\n      <td>2024/1/3 0:05</td>\n      <td>陕西</td>\n    </tr>\n  </tbody>\n</table>\n<p>1740 rows × 3 columns</p>\n</div>"
     },
     "execution_count": 176,
     "metadata": {},
     "output_type": "execute_result"
    }
   ],
   "source": [
    "# 只保留汉字\n",
    "def is_chinese(uchar):\n",
    "    if uchar >= u'\\u4e00' and uchar <= u'\\u9fa5':\n",
    "        return True\n",
    "    else:\n",
    "        return False\n",
    "\n",
    "def format_str(content):\n",
    "    content_str = ''\n",
    "    for i in content:\n",
    "        if is_chinese(i):\n",
    "            content_str = content_str + i\n",
    "    return content_str\n",
    "\n",
    "data.iloc[:,0] = list(map(format_str, data.iloc[:,0]))\n",
    "data"
   ],
   "metadata": {
    "collapsed": false
   }
  },
  {
   "cell_type": "code",
   "execution_count": 177,
   "outputs": [
    {
     "data": {
      "text/plain": "                                                   微博正文            发布时间   ip\n0     联合国机构每经快讯半岛电视台当地时间月日援引联合国人道主义事务协调厅消息称本轮巴以冲突影响了...  2024/1/6 23:48  NaN\n1                                伊朗报纸我们将对犹太复国主义者进行最后的报复  2024/1/6 23:33   贵州\n2     朝鲜发炮弹震惊世界让美国很难受这一炮表面上看起来是警告韩国实则是警告美国俄乌战争巴以冲突胡塞...  2024/1/6 23:24   广东\n3     巴勒斯坦圣城旅发布了一段有趣的加沙作战视频他们在加沙市南部的扎伊图恩社区以南锁定了以色列军队...  2024/1/1 23:57   陕西\n4     以色列军队在约旦河西岸杰里科市入口处用巨石砸毁了一辆巴勒斯坦人的汽车车主此前已经被以色列当局...  2024/1/6 23:16   广东\n...                                                 ...             ...  ...\n1735  据报道黎巴嫩首都贝鲁特南郊的真主党控制区域发生了剧烈爆炸现场发生了大火目前还没有关于爆炸原因...   2024/1/3 0:32   广东\n1736                                     教你不要重蹈覆辙你还反唇相讥   2024/1/3 0:27   云南\n1737                   建个话痨群更新一些不占用微博板面的信息消息实况互动群海岸猎人水相   2024/1/3 0:09   广西\n1738  箭头社地图作者地图更新图一塞弗尔斯克方向俄年伞兵从两侧逼近韦塞洛耶村占领了一些据点图二阿夫迪...   2024/1/3 0:07   广西\n1739  以色列伞兵旅的成员伊利沙马丁是犹太教拉比雅科夫马丁的儿子他的部队在加沙地区遭到巴勒斯坦抵抗武...   2024/1/3 0:05   陕西\n\n[1468 rows x 3 columns]",
      "text/html": "<div>\n<style scoped>\n    .dataframe tbody tr th:only-of-type {\n        vertical-align: middle;\n    }\n\n    .dataframe tbody tr th {\n        vertical-align: top;\n    }\n\n    .dataframe thead th {\n        text-align: right;\n    }\n</style>\n<table border=\"1\" class=\"dataframe\">\n  <thead>\n    <tr style=\"text-align: right;\">\n      <th></th>\n      <th>微博正文</th>\n      <th>发布时间</th>\n      <th>ip</th>\n    </tr>\n  </thead>\n  <tbody>\n    <tr>\n      <th>0</th>\n      <td>联合国机构每经快讯半岛电视台当地时间月日援引联合国人道主义事务协调厅消息称本轮巴以冲突影响了...</td>\n      <td>2024/1/6 23:48</td>\n      <td>NaN</td>\n    </tr>\n    <tr>\n      <th>1</th>\n      <td>伊朗报纸我们将对犹太复国主义者进行最后的报复</td>\n      <td>2024/1/6 23:33</td>\n      <td>贵州</td>\n    </tr>\n    <tr>\n      <th>2</th>\n      <td>朝鲜发炮弹震惊世界让美国很难受这一炮表面上看起来是警告韩国实则是警告美国俄乌战争巴以冲突胡塞...</td>\n      <td>2024/1/6 23:24</td>\n      <td>广东</td>\n    </tr>\n    <tr>\n      <th>3</th>\n      <td>巴勒斯坦圣城旅发布了一段有趣的加沙作战视频他们在加沙市南部的扎伊图恩社区以南锁定了以色列军队...</td>\n      <td>2024/1/1 23:57</td>\n      <td>陕西</td>\n    </tr>\n    <tr>\n      <th>4</th>\n      <td>以色列军队在约旦河西岸杰里科市入口处用巨石砸毁了一辆巴勒斯坦人的汽车车主此前已经被以色列当局...</td>\n      <td>2024/1/6 23:16</td>\n      <td>广东</td>\n    </tr>\n    <tr>\n      <th>...</th>\n      <td>...</td>\n      <td>...</td>\n      <td>...</td>\n    </tr>\n    <tr>\n      <th>1735</th>\n      <td>据报道黎巴嫩首都贝鲁特南郊的真主党控制区域发生了剧烈爆炸现场发生了大火目前还没有关于爆炸原因...</td>\n      <td>2024/1/3 0:32</td>\n      <td>广东</td>\n    </tr>\n    <tr>\n      <th>1736</th>\n      <td>教你不要重蹈覆辙你还反唇相讥</td>\n      <td>2024/1/3 0:27</td>\n      <td>云南</td>\n    </tr>\n    <tr>\n      <th>1737</th>\n      <td>建个话痨群更新一些不占用微博板面的信息消息实况互动群海岸猎人水相</td>\n      <td>2024/1/3 0:09</td>\n      <td>广西</td>\n    </tr>\n    <tr>\n      <th>1738</th>\n      <td>箭头社地图作者地图更新图一塞弗尔斯克方向俄年伞兵从两侧逼近韦塞洛耶村占领了一些据点图二阿夫迪...</td>\n      <td>2024/1/3 0:07</td>\n      <td>广西</td>\n    </tr>\n    <tr>\n      <th>1739</th>\n      <td>以色列伞兵旅的成员伊利沙马丁是犹太教拉比雅科夫马丁的儿子他的部队在加沙地区遭到巴勒斯坦抵抗武...</td>\n      <td>2024/1/3 0:05</td>\n      <td>陕西</td>\n    </tr>\n  </tbody>\n</table>\n<p>1468 rows × 3 columns</p>\n</div>"
     },
     "execution_count": 177,
     "metadata": {},
     "output_type": "execute_result"
    }
   ],
   "source": [
    "import numpy as np\n",
    "\n",
    "# 去重\n",
    "data = data.drop_duplicates(['微博正文'],keep='first')\n",
    "data = data.drop(data[data['微博正文']==''].index)\n",
    "data"
   ],
   "metadata": {
    "collapsed": false
   }
  },
  {
   "cell_type": "code",
   "execution_count": 178,
   "outputs": [
    {
     "data": {
      "text/plain": "                                                   微博正文            发布时间   ip\n0     [联合国/nt, 机构/n, 每/r, 经/n, 快讯/nz, 半岛/n, 电视台/n, 当...  2024/1/6 23:48  NaN\n1     [伊朗/ns, 报纸/n, 我们/r, 将/d, 对/p, 犹太复国/nz, 主义者/n, ...  2024/1/6 23:33   贵州\n2     [朝鲜/ns, 发/v, 炮弹/n, 震惊/v, 世界/n, 让/v, 美国/ns, 很/z...  2024/1/6 23:24   广东\n3     [巴勒斯坦/ns, 圣城/ns, 旅/n, 发布/v, 了/ul, 一段/m, 有趣/a, ...  2024/1/1 23:57   陕西\n4     [以色列/ns, 军队/n, 在/p, 约旦河西岸/ns, 杰里科/nrt, 市/n, 入口...  2024/1/6 23:16   广东\n...                                                 ...             ...  ...\n1735  [据/p, 报道/v, 黎巴嫩/nr, 首都/d, 贝鲁特/nr, 南郊/ns, 的/uj,...   2024/1/3 0:32   广东\n1736        [教/v, 你/r, 不要/df, 重蹈覆辙/i, 你/r, 还/d, 反唇相讥/i]   2024/1/3 0:27   云南\n1737  [建/v, 个/q, 话/n, 痨群/n, 更新/d, 一些/m, 不/d, 占用/v, 微...   2024/1/3 0:09   广西\n1738  [箭头/n, 社/n, 地图/n, 作者/n, 地图更新/nz, 图一塞弗/nrt, 尔斯/...   2024/1/3 0:07   广西\n1739  [以色列/ns, 伞兵/n, 旅/n, 的/uj, 成员/n, 伊利/nz, 沙/nr, 马...   2024/1/3 0:05   陕西\n\n[1468 rows x 3 columns]",
      "text/html": "<div>\n<style scoped>\n    .dataframe tbody tr th:only-of-type {\n        vertical-align: middle;\n    }\n\n    .dataframe tbody tr th {\n        vertical-align: top;\n    }\n\n    .dataframe thead th {\n        text-align: right;\n    }\n</style>\n<table border=\"1\" class=\"dataframe\">\n  <thead>\n    <tr style=\"text-align: right;\">\n      <th></th>\n      <th>微博正文</th>\n      <th>发布时间</th>\n      <th>ip</th>\n    </tr>\n  </thead>\n  <tbody>\n    <tr>\n      <th>0</th>\n      <td>[联合国/nt, 机构/n, 每/r, 经/n, 快讯/nz, 半岛/n, 电视台/n, 当...</td>\n      <td>2024/1/6 23:48</td>\n      <td>NaN</td>\n    </tr>\n    <tr>\n      <th>1</th>\n      <td>[伊朗/ns, 报纸/n, 我们/r, 将/d, 对/p, 犹太复国/nz, 主义者/n, ...</td>\n      <td>2024/1/6 23:33</td>\n      <td>贵州</td>\n    </tr>\n    <tr>\n      <th>2</th>\n      <td>[朝鲜/ns, 发/v, 炮弹/n, 震惊/v, 世界/n, 让/v, 美国/ns, 很/z...</td>\n      <td>2024/1/6 23:24</td>\n      <td>广东</td>\n    </tr>\n    <tr>\n      <th>3</th>\n      <td>[巴勒斯坦/ns, 圣城/ns, 旅/n, 发布/v, 了/ul, 一段/m, 有趣/a, ...</td>\n      <td>2024/1/1 23:57</td>\n      <td>陕西</td>\n    </tr>\n    <tr>\n      <th>4</th>\n      <td>[以色列/ns, 军队/n, 在/p, 约旦河西岸/ns, 杰里科/nrt, 市/n, 入口...</td>\n      <td>2024/1/6 23:16</td>\n      <td>广东</td>\n    </tr>\n    <tr>\n      <th>...</th>\n      <td>...</td>\n      <td>...</td>\n      <td>...</td>\n    </tr>\n    <tr>\n      <th>1735</th>\n      <td>[据/p, 报道/v, 黎巴嫩/nr, 首都/d, 贝鲁特/nr, 南郊/ns, 的/uj,...</td>\n      <td>2024/1/3 0:32</td>\n      <td>广东</td>\n    </tr>\n    <tr>\n      <th>1736</th>\n      <td>[教/v, 你/r, 不要/df, 重蹈覆辙/i, 你/r, 还/d, 反唇相讥/i]</td>\n      <td>2024/1/3 0:27</td>\n      <td>云南</td>\n    </tr>\n    <tr>\n      <th>1737</th>\n      <td>[建/v, 个/q, 话/n, 痨群/n, 更新/d, 一些/m, 不/d, 占用/v, 微...</td>\n      <td>2024/1/3 0:09</td>\n      <td>广西</td>\n    </tr>\n    <tr>\n      <th>1738</th>\n      <td>[箭头/n, 社/n, 地图/n, 作者/n, 地图更新/nz, 图一塞弗/nrt, 尔斯/...</td>\n      <td>2024/1/3 0:07</td>\n      <td>广西</td>\n    </tr>\n    <tr>\n      <th>1739</th>\n      <td>[以色列/ns, 伞兵/n, 旅/n, 的/uj, 成员/n, 伊利/nz, 沙/nr, 马...</td>\n      <td>2024/1/3 0:05</td>\n      <td>陕西</td>\n    </tr>\n  </tbody>\n</table>\n<p>1468 rows × 3 columns</p>\n</div>"
     },
     "execution_count": 178,
     "metadata": {},
     "output_type": "execute_result"
    }
   ],
   "source": [
    "# 对文本进行jieba分词\n",
    "import jieba\n",
    "import jieba.posseg as pseg\n",
    "import pickle\n",
    "import os\n",
    "# 词性pickle文件的保存路径\n",
    "pos_filename = os.path.join('data','interim',os.path.basename(raw_data_path).split('.')[0]+'pos.pickle')\n",
    "# 如果存在词性pickle文件，则直接加载\n",
    "if os.path.exists(pos_filename):\n",
    "    with open(pos_filename, 'rb') as f:\n",
    "        data = pickle.load(f)\n",
    "else: # 没有则生成\n",
    "    jieba.load_userdict('data/补充词典.txt')\n",
    "    data.iloc[:,0] = list(map(lambda s:list(pseg.cut(s,use_paddle=True)),data.iloc[:,0]))\n",
    "    # data.iloc[:,0] = list(map(lambda s:list(jieba.cut(s,use_paddle=True)),data.iloc[:,0]))\n",
    "    with open(pos_filename,'wb') as f:\n",
    "        pickle.dump(data, f)\n",
    "data"
   ],
   "metadata": {
    "collapsed": false
   }
  },
  {
   "cell_type": "code",
   "execution_count": 179,
   "outputs": [],
   "source": [
    "# 根据词性删除虚词\n",
    "# data.drop(data[data.iloc[:,0]<10],inplace=True)\n",
    "for i in range(len(data)):\n",
    "    data.iloc[i,0] = list(filter(lambda x: x.flag not in ['t', 'p', 'm', 'q', 'r', 'y', 'u', 'm'], data.iloc[i,0]))\n",
    "# 删除单个字的词\n",
    "data.iloc[:,0] = [[word.word for word in line if len(word.word)>1]for line in data.iloc[:,0]]\n",
    "backup_data = data"
   ],
   "metadata": {
    "collapsed": false
   }
  },
  {
   "cell_type": "code",
   "execution_count": 180,
   "outputs": [
    {
     "data": {
      "text/plain": "71"
     },
     "execution_count": 180,
     "metadata": {},
     "output_type": "execute_result"
    }
   ],
   "source": [
    "# 去掉文本中的停用词\n",
    "def drop_stopwords(contents, stopwords):\n",
    "    contents_clean = []\n",
    "    for line in contents:\n",
    "        line_clean = []\n",
    "        for word in line:\n",
    "            if word in stopwords:\n",
    "                continue\n",
    "            line_clean.append(word)\n",
    "        contents_clean.append(line_clean)\n",
    "    return contents_clean\n",
    "stopwords = []\n",
    "with open('data/停用词.txt','r',encoding='utf8') as f:\n",
    "    stopwords = f.readlines()\n",
    "stopwords = set(map(lambda s:s.replace('\\n',''),stopwords))\n",
    "stopwords\n",
    "data.iloc[:,0] = drop_stopwords(data.iloc[:,0], stopwords)\n",
    "# data = data[data['微博正文'].apply(lambda x: 30 < len(x) < 50)]\n",
    "data = data[data['微博正文'].apply(lambda x:len(x) > 70)]\n",
    "min(list(map(len, data.iloc[:,0])))"
   ],
   "metadata": {
    "collapsed": false
   }
  },
  {
   "cell_type": "code",
   "execution_count": 181,
   "outputs": [
    {
     "data": {
      "text/plain": "135"
     },
     "execution_count": 181,
     "metadata": {},
     "output_type": "execute_result"
    }
   ],
   "source": [
    "# 保存处理后数据\n",
    "# 处理后数据文件名\n",
    "processed_filename = f'weibo_{month}_processed'\n",
    "data.to_csv(os.path.join('data','processed',processed_filename+'.csv'), encoding='utf_8_sig')\n",
    "with open(os.path.join('data','processed',processed_filename+'.txt'),'w+', encoding='utf8') as f:\n",
    "    f.writelines([' '.join(line)+'\\n' for line in data.iloc[:,0]])\n",
    "\n",
    "len(data)"
   ],
   "metadata": {
    "collapsed": false
   }
  },
  {
   "cell_type": "code",
   "execution_count": 34,
   "outputs": [
    {
     "name": "stdout",
     "output_type": "stream",
     "text": [
      "54311\n",
      "[[0 0 0 ... 0 0 0]\n",
      " [0 0 0 ... 0 0 0]\n",
      " [0 0 0 ... 0 0 0]\n",
      " ...\n",
      " [0 0 0 ... 0 0 0]\n",
      " [0 0 0 ... 0 0 0]\n",
      " [0 0 0 ... 0 0 0]]\n",
      "(7756, 54311)\n"
     ]
    }
   ],
   "source": [
    "from sklearn.feature_extraction.text import CountVectorizer\n",
    "#将文本中的词转换成词频矩阵\n",
    "vectorizer = CountVectorizer()\n",
    "# print(vectorizer)\n",
    "corpus = [' '.join(line) for line in data.iloc[:,0]]\n",
    "#计算某个词出现的次数\n",
    "X = vectorizer.fit_transform(corpus)\n",
    "# print(type(X),X)\n",
    "#获取词袋中所有文本关键词\n",
    "word = vectorizer.get_feature_names_out()\n",
    "print(len(word))\n",
    "#查看词频结果\n",
    "print(X.toarray())\n",
    "print(X.shape)"
   ],
   "metadata": {
    "collapsed": false
   }
  },
  {
   "cell_type": "code",
   "execution_count": 40,
   "outputs": [
    {
     "data": {
      "text/plain": "144"
     },
     "execution_count": 40,
     "metadata": {},
     "output_type": "execute_result"
    }
   ],
   "source": [
    "import pickle\n",
    "with open('data/interim/dec_doc_topic_mat.pickle','rb') as f:\n",
    "    mat = pickle.load(f)\n",
    "sum(list(map(lambda x:1 if len(x)<10 else 0, mat)))\n",
    "# mat"
   ],
   "metadata": {
    "collapsed": false
   }
  },
  {
   "cell_type": "code",
   "execution_count": null,
   "outputs": [],
   "source": [],
   "metadata": {
    "collapsed": false
   }
  }
 ],
 "metadata": {
  "kernelspec": {
   "display_name": "Python 3",
   "language": "python",
   "name": "python3"
  },
  "language_info": {
   "codemirror_mode": {
    "name": "ipython",
    "version": 2
   },
   "file_extension": ".py",
   "mimetype": "text/x-python",
   "name": "python",
   "nbconvert_exporter": "python",
   "pygments_lexer": "ipython2",
   "version": "2.7.6"
  }
 },
 "nbformat": 4,
 "nbformat_minor": 0
}
