{
 "cells": [
  {
   "cell_type": "code",
   "execution_count": 28,
   "metadata": {
    "collapsed": true
   },
   "outputs": [],
   "source": [
    "import pandas as pd"
   ]
  },
  {
   "cell_type": "code",
   "execution_count": 29,
   "outputs": [
    {
     "data": {
      "text/plain": "                                                微博正文             发布时间  ip\n0  哈马斯发布来自也门的声援#巴以冲突##以色列称坚决拒绝停火##以色列轰炸后的加沙尸横遍野#L...  2023/12/1 23:57  北京\n1                        #伊朗#用无人机炸了#以色列#的船#巴以冲突##中东#  2023/12/1 23:56  广东\n2  在以色列军队恢复军事行动的1小时内，真主党武装在以色列北部边境确认发起了3次袭击。抵抗之弧在...  2023/12/1 23:56  广东\n3  卡塔尔外交部宣布，该国对停火结束后恢复敌对行动“深感遗憾”，双方未达成延长停火协议。卡塔尔外...  2023/12/1 23:49  北京\n4  卡桑旅的火箭弹在特拉维夫上空，铁穹紧急拦截#巴以冲突##以军已恢复军事打击行动#L靖难战神李...  2023/12/1 23:45  广东",
      "text/html": "<div>\n<style scoped>\n    .dataframe tbody tr th:only-of-type {\n        vertical-align: middle;\n    }\n\n    .dataframe tbody tr th {\n        vertical-align: top;\n    }\n\n    .dataframe thead th {\n        text-align: right;\n    }\n</style>\n<table border=\"1\" class=\"dataframe\">\n  <thead>\n    <tr style=\"text-align: right;\">\n      <th></th>\n      <th>微博正文</th>\n      <th>发布时间</th>\n      <th>ip</th>\n    </tr>\n  </thead>\n  <tbody>\n    <tr>\n      <th>0</th>\n      <td>哈马斯发布来自也门的声援#巴以冲突##以色列称坚决拒绝停火##以色列轰炸后的加沙尸横遍野#L...</td>\n      <td>2023/12/1 23:57</td>\n      <td>北京</td>\n    </tr>\n    <tr>\n      <th>1</th>\n      <td>#伊朗#用无人机炸了#以色列#的船#巴以冲突##中东#</td>\n      <td>2023/12/1 23:56</td>\n      <td>广东</td>\n    </tr>\n    <tr>\n      <th>2</th>\n      <td>在以色列军队恢复军事行动的1小时内，真主党武装在以色列北部边境确认发起了3次袭击。抵抗之弧在...</td>\n      <td>2023/12/1 23:56</td>\n      <td>广东</td>\n    </tr>\n    <tr>\n      <th>3</th>\n      <td>卡塔尔外交部宣布，该国对停火结束后恢复敌对行动“深感遗憾”，双方未达成延长停火协议。卡塔尔外...</td>\n      <td>2023/12/1 23:49</td>\n      <td>北京</td>\n    </tr>\n    <tr>\n      <th>4</th>\n      <td>卡桑旅的火箭弹在特拉维夫上空，铁穹紧急拦截#巴以冲突##以军已恢复军事打击行动#L靖难战神李...</td>\n      <td>2023/12/1 23:45</td>\n      <td>广东</td>\n    </tr>\n  </tbody>\n</table>\n</div>"
     },
     "execution_count": 29,
     "metadata": {},
     "output_type": "execute_result"
    }
   ],
   "source": [
    "raw_data_path = 'data/raw/巴以冲突11月.csv'\n",
    "data = pd.read_csv(raw_data_path)\n",
    "data.head()"
   ],
   "metadata": {
    "collapsed": false
   }
  },
  {
   "cell_type": "code",
   "execution_count": 30,
   "outputs": [
    {
     "data": {
      "text/plain": "0        哈马斯发布来自也门的声援巴以冲突以色列称坚决拒绝停火以色列轰炸后的加沙尸横遍野阿克萨柯基的微博视频\n1                                      伊朗用无人机炸了以色列的船巴以冲突中东\n2        在以色列军队恢复军事行动的小时内真主党武装在以色列北部边境确认发起了次袭击抵抗之弧在临时停火...\n3        卡塔尔外交部宣布该国对停火结束后恢复敌对行动深感遗憾双方未达成延长停火协议卡塔尔外交部称各方...\n4          卡桑旅的火箭弹在特拉维夫上空铁穹紧急拦截巴以冲突以军已恢复军事打击行动靖难战神李景隆的微博视频\n                               ...                        \n31980    今天是年月日星期一昨天在理发店听到理发师在于顾客聊天能从巴以冲突聊到恒大再到股市和楼市想想过...\n31981    外交部巴以冲突伤亡是对人类良知的拷问中方谴责和反对巴以冲突中伤害平民外交部发言人汪文斌在今天...\n31982    基辛格美国正在分裂解体就在眼前基辛格表示美国正在遭受国内分裂以及国际混乱然而美国却没办法凝聚...\n31983    为什么支持巴勒斯坦这位英国小哥说得很对其实全世界支持巴勒斯坦跟反犹无关也无关宗教反对以色列只...\n31984    黎巴嫩真主党武装展示其反舰导弹以作为对以色列海岸周边美国舰队存在的回应哈马斯或释放以色列母子...\nName: 微博正文, Length: 31985, dtype: object"
     },
     "execution_count": 30,
     "metadata": {},
     "output_type": "execute_result"
    }
   ],
   "source": [
    "# 只保留汉字\n",
    "def is_chinese(uchar):\n",
    "    if uchar >= u'\\u4e00' and uchar <= u'\\u9fa5':\n",
    "        return True\n",
    "    else:\n",
    "        return False\n",
    "\n",
    "def format_str(content):\n",
    "    content_str = ''\n",
    "    for i in content:\n",
    "        if is_chinese(i):\n",
    "            content_str = content_str + i\n",
    "    return content_str\n",
    "\n",
    "data.iloc[:,0] = list(map(format_str, data.iloc[:,0]))\n",
    "data.iloc[:,0]"
   ],
   "metadata": {
    "collapsed": false
   }
  },
  {
   "cell_type": "code",
   "execution_count": 31,
   "outputs": [
    {
     "data": {
      "text/plain": "                                                    微博正文             发布时间  ip\n0      哈马斯发布来自也门的声援巴以冲突以色列称坚决拒绝停火以色列轰炸后的加沙尸横遍野阿克萨柯基的微博视频  2023/12/1 23:57  北京\n1                                    伊朗用无人机炸了以色列的船巴以冲突中东  2023/12/1 23:56  广东\n2      在以色列军队恢复军事行动的小时内真主党武装在以色列北部边境确认发起了次袭击抵抗之弧在临时停火...  2023/12/1 23:56  广东\n3      卡塔尔外交部宣布该国对停火结束后恢复敌对行动深感遗憾双方未达成延长停火协议卡塔尔外交部称各方...  2023/12/1 23:49  北京\n4        卡桑旅的火箭弹在特拉维夫上空铁穹紧急拦截巴以冲突以军已恢复军事打击行动靖难战神李景隆的微博视频  2023/12/1 23:45  广东\n...                                                  ...              ...  ..\n31979  以色列说自己出于自卫目的打击哈马斯一个月下来以色列轰炸了民居难民营医院学校教堂甚至救护车炸死...  2023/11/6 20:44  广东\n31980  今天是年月日星期一昨天在理发店听到理发师在于顾客聊天能从巴以冲突聊到恒大再到股市和楼市想想过...  2023/11/6 20:44  新疆\n31982  基辛格美国正在分裂解体就在眼前基辛格表示美国正在遭受国内分裂以及国际混乱然而美国却没办法凝聚...  2023/11/6 20:43  上海\n31983  为什么支持巴勒斯坦这位英国小哥说得很对其实全世界支持巴勒斯坦跟反犹无关也无关宗教反对以色列只...  2023/11/6 20:42  广东\n31984  黎巴嫩真主党武装展示其反舰导弹以作为对以色列海岸周边美国舰队存在的回应哈马斯或释放以色列母子...  2023/11/6 20:42  广东\n\n[26349 rows x 3 columns]",
      "text/html": "<div>\n<style scoped>\n    .dataframe tbody tr th:only-of-type {\n        vertical-align: middle;\n    }\n\n    .dataframe tbody tr th {\n        vertical-align: top;\n    }\n\n    .dataframe thead th {\n        text-align: right;\n    }\n</style>\n<table border=\"1\" class=\"dataframe\">\n  <thead>\n    <tr style=\"text-align: right;\">\n      <th></th>\n      <th>微博正文</th>\n      <th>发布时间</th>\n      <th>ip</th>\n    </tr>\n  </thead>\n  <tbody>\n    <tr>\n      <th>0</th>\n      <td>哈马斯发布来自也门的声援巴以冲突以色列称坚决拒绝停火以色列轰炸后的加沙尸横遍野阿克萨柯基的微博视频</td>\n      <td>2023/12/1 23:57</td>\n      <td>北京</td>\n    </tr>\n    <tr>\n      <th>1</th>\n      <td>伊朗用无人机炸了以色列的船巴以冲突中东</td>\n      <td>2023/12/1 23:56</td>\n      <td>广东</td>\n    </tr>\n    <tr>\n      <th>2</th>\n      <td>在以色列军队恢复军事行动的小时内真主党武装在以色列北部边境确认发起了次袭击抵抗之弧在临时停火...</td>\n      <td>2023/12/1 23:56</td>\n      <td>广东</td>\n    </tr>\n    <tr>\n      <th>3</th>\n      <td>卡塔尔外交部宣布该国对停火结束后恢复敌对行动深感遗憾双方未达成延长停火协议卡塔尔外交部称各方...</td>\n      <td>2023/12/1 23:49</td>\n      <td>北京</td>\n    </tr>\n    <tr>\n      <th>4</th>\n      <td>卡桑旅的火箭弹在特拉维夫上空铁穹紧急拦截巴以冲突以军已恢复军事打击行动靖难战神李景隆的微博视频</td>\n      <td>2023/12/1 23:45</td>\n      <td>广东</td>\n    </tr>\n    <tr>\n      <th>...</th>\n      <td>...</td>\n      <td>...</td>\n      <td>...</td>\n    </tr>\n    <tr>\n      <th>31979</th>\n      <td>以色列说自己出于自卫目的打击哈马斯一个月下来以色列轰炸了民居难民营医院学校教堂甚至救护车炸死...</td>\n      <td>2023/11/6 20:44</td>\n      <td>广东</td>\n    </tr>\n    <tr>\n      <th>31980</th>\n      <td>今天是年月日星期一昨天在理发店听到理发师在于顾客聊天能从巴以冲突聊到恒大再到股市和楼市想想过...</td>\n      <td>2023/11/6 20:44</td>\n      <td>新疆</td>\n    </tr>\n    <tr>\n      <th>31982</th>\n      <td>基辛格美国正在分裂解体就在眼前基辛格表示美国正在遭受国内分裂以及国际混乱然而美国却没办法凝聚...</td>\n      <td>2023/11/6 20:43</td>\n      <td>上海</td>\n    </tr>\n    <tr>\n      <th>31983</th>\n      <td>为什么支持巴勒斯坦这位英国小哥说得很对其实全世界支持巴勒斯坦跟反犹无关也无关宗教反对以色列只...</td>\n      <td>2023/11/6 20:42</td>\n      <td>广东</td>\n    </tr>\n    <tr>\n      <th>31984</th>\n      <td>黎巴嫩真主党武装展示其反舰导弹以作为对以色列海岸周边美国舰队存在的回应哈马斯或释放以色列母子...</td>\n      <td>2023/11/6 20:42</td>\n      <td>广东</td>\n    </tr>\n  </tbody>\n</table>\n<p>26349 rows × 3 columns</p>\n</div>"
     },
     "execution_count": 31,
     "metadata": {},
     "output_type": "execute_result"
    }
   ],
   "source": [
    "# 去重\n",
    "data = data.drop_duplicates(['微博正文'],keep='first')\n",
    "data"
   ],
   "metadata": {
    "collapsed": false
   }
  },
  {
   "cell_type": "code",
   "execution_count": 32,
   "outputs": [
    {
     "data": {
      "text/plain": "                                                    微博正文             发布时间  ip\n0      [哈马斯/nrt, 发布/v, 来自/v, 也门/d, 的/uj, 声援/n, 巴以冲突/x...  2023/12/1 23:57  北京\n1      [伊朗/ns, 用/p, 无人机/l, 炸/v, 了/ul, 以色列/ns, 的/uj, 船...  2023/12/1 23:56  广东\n2      [在/p, 以色列/ns, 军队/n, 恢复/v, 军事行动/n, 的/uj, 小时/n, ...  2023/12/1 23:56  广东\n3      [卡塔尔/nr, 外交部/nt, 宣布/v, 该国/r, 对/p, 停火/v, 结束/v, ...  2023/12/1 23:49  北京\n4      [卡桑/nrt, 旅/n, 的/uj, 火箭弹/n, 在/p, 特拉维夫/nrt, 上空/v...  2023/12/1 23:45  广东\n...                                                  ...              ...  ..\n31979  [以色列/ns, 说/v, 自己/r, 出于/v, 自卫/v, 目的/n, 打击/v, 哈马...  2023/11/6 20:44  广东\n31980  [今天/t, 是/v, 年月日/t, 星期一/t, 昨天/t, 在/p, 理发店/n, 听到...  2023/11/6 20:44  新疆\n31982  [基辛格/n, 美国/ns, 正在/t, 分裂/v, 解体/n, 就/d, 在/p, 眼前/...  2023/11/6 20:43  上海\n31983  [为什么/r, 支持/v, 巴勒斯坦/ns, 这位/rz, 英国/ns, 小哥/n, 说/v...  2023/11/6 20:42  广东\n31984  [黎巴嫩真主党/nt, 武装/n, 展示/v, 其/r, 反舰导弹/nz, 以/p, 作为/...  2023/11/6 20:42  广东\n\n[26349 rows x 3 columns]",
      "text/html": "<div>\n<style scoped>\n    .dataframe tbody tr th:only-of-type {\n        vertical-align: middle;\n    }\n\n    .dataframe tbody tr th {\n        vertical-align: top;\n    }\n\n    .dataframe thead th {\n        text-align: right;\n    }\n</style>\n<table border=\"1\" class=\"dataframe\">\n  <thead>\n    <tr style=\"text-align: right;\">\n      <th></th>\n      <th>微博正文</th>\n      <th>发布时间</th>\n      <th>ip</th>\n    </tr>\n  </thead>\n  <tbody>\n    <tr>\n      <th>0</th>\n      <td>[哈马斯/nrt, 发布/v, 来自/v, 也门/d, 的/uj, 声援/n, 巴以冲突/x...</td>\n      <td>2023/12/1 23:57</td>\n      <td>北京</td>\n    </tr>\n    <tr>\n      <th>1</th>\n      <td>[伊朗/ns, 用/p, 无人机/l, 炸/v, 了/ul, 以色列/ns, 的/uj, 船...</td>\n      <td>2023/12/1 23:56</td>\n      <td>广东</td>\n    </tr>\n    <tr>\n      <th>2</th>\n      <td>[在/p, 以色列/ns, 军队/n, 恢复/v, 军事行动/n, 的/uj, 小时/n, ...</td>\n      <td>2023/12/1 23:56</td>\n      <td>广东</td>\n    </tr>\n    <tr>\n      <th>3</th>\n      <td>[卡塔尔/nr, 外交部/nt, 宣布/v, 该国/r, 对/p, 停火/v, 结束/v, ...</td>\n      <td>2023/12/1 23:49</td>\n      <td>北京</td>\n    </tr>\n    <tr>\n      <th>4</th>\n      <td>[卡桑/nrt, 旅/n, 的/uj, 火箭弹/n, 在/p, 特拉维夫/nrt, 上空/v...</td>\n      <td>2023/12/1 23:45</td>\n      <td>广东</td>\n    </tr>\n    <tr>\n      <th>...</th>\n      <td>...</td>\n      <td>...</td>\n      <td>...</td>\n    </tr>\n    <tr>\n      <th>31979</th>\n      <td>[以色列/ns, 说/v, 自己/r, 出于/v, 自卫/v, 目的/n, 打击/v, 哈马...</td>\n      <td>2023/11/6 20:44</td>\n      <td>广东</td>\n    </tr>\n    <tr>\n      <th>31980</th>\n      <td>[今天/t, 是/v, 年月日/t, 星期一/t, 昨天/t, 在/p, 理发店/n, 听到...</td>\n      <td>2023/11/6 20:44</td>\n      <td>新疆</td>\n    </tr>\n    <tr>\n      <th>31982</th>\n      <td>[基辛格/n, 美国/ns, 正在/t, 分裂/v, 解体/n, 就/d, 在/p, 眼前/...</td>\n      <td>2023/11/6 20:43</td>\n      <td>上海</td>\n    </tr>\n    <tr>\n      <th>31983</th>\n      <td>[为什么/r, 支持/v, 巴勒斯坦/ns, 这位/rz, 英国/ns, 小哥/n, 说/v...</td>\n      <td>2023/11/6 20:42</td>\n      <td>广东</td>\n    </tr>\n    <tr>\n      <th>31984</th>\n      <td>[黎巴嫩真主党/nt, 武装/n, 展示/v, 其/r, 反舰导弹/nz, 以/p, 作为/...</td>\n      <td>2023/11/6 20:42</td>\n      <td>广东</td>\n    </tr>\n  </tbody>\n</table>\n<p>26349 rows × 3 columns</p>\n</div>"
     },
     "execution_count": 32,
     "metadata": {},
     "output_type": "execute_result"
    }
   ],
   "source": [
    "# 对文本进行jieba分词\n",
    "import jieba\n",
    "import jieba.posseg as pseg\n",
    "import pickle\n",
    "import os\n",
    "pos_filename = os.path.join('data','interim',os.path.basename(raw_data_path).split('.')[0]+'.pickle')\n",
    "if os.path.exists(pos_filename):\n",
    "    with open(pos_filename, 'rb') as f:\n",
    "        data = pickle.load(f)\n",
    "else:\n",
    "    jieba.load_userdict('data/补充词典.txt')\n",
    "    data.iloc[:,0] = list(map(lambda s:list(pseg.cut(s,use_paddle=True)),data.iloc[:,0]))\n",
    "    # data.iloc[:,0] = list(map(lambda s:list(jieba.cut(s,use_paddle=True)),data.iloc[:,0]))\n",
    "    with open(pos_filename,'wb') as f:\n",
    "        pickle.dump(data, f)\n",
    "data"
   ],
   "metadata": {
    "collapsed": false
   }
  },
  {
   "cell_type": "code",
   "execution_count": 33,
   "outputs": [],
   "source": [
    "# 根据词性删除虚词\n",
    "# data.drop(data[data.iloc[:,0]<10],inplace=True)\n",
    "for i in range(len(data)):\n",
    "    data.iloc[i,0] = list(filter(lambda x: x.flag not in ['t', 'p', 'm', 'q', 'r', 'y', 'u', 'm'], data.iloc[i,0]))\n",
    "# 删除单个字的词\n",
    "data.iloc[:,0] = [[word.word for word in line if len(word.word)>1]for line in data.iloc[:,0]]\n",
    "backup_data = data"
   ],
   "metadata": {
    "collapsed": false
   }
  },
  {
   "cell_type": "code",
   "execution_count": 34,
   "outputs": [
    {
     "data": {
      "text/plain": "51"
     },
     "execution_count": 34,
     "metadata": {},
     "output_type": "execute_result"
    }
   ],
   "source": [
    "# 去掉文本中的停用词\n",
    "def drop_stopwords(contents, stopwords):\n",
    "    contents_clean = []\n",
    "    for line in contents:\n",
    "        line_clean = []\n",
    "        for word in line:\n",
    "            if word in stopwords:\n",
    "                continue\n",
    "            line_clean.append(word)\n",
    "        contents_clean.append(line_clean)\n",
    "    return contents_clean\n",
    "stopwords = []\n",
    "with open('data/停用词.txt','r',encoding='utf8') as f:\n",
    "    stopwords = f.readlines()\n",
    "stopwords = set(map(lambda s:s.replace('\\n',''),stopwords))\n",
    "stopwords\n",
    "data.iloc[:,0] = drop_stopwords(data.iloc[:,0], stopwords)\n",
    "# data = data[data['微博正文'].apply(lambda x: 30 < len(x) < 50)]\n",
    "data = data[data['微博正文'].apply(lambda x:len(x) > 50)]\n",
    "min(list(map(len, data.iloc[:,0])))"
   ],
   "metadata": {
    "collapsed": false
   }
  },
  {
   "cell_type": "code",
   "execution_count": 35,
   "outputs": [],
   "source": [
    "processed_filename = 'weibo_nov_processed'\n",
    "data.to_csv(os.path.join('data','processed',processed_filename+'.csv'), encoding='utf_8_sig')\n",
    "with open(os.path.join('data','processed',processed_filename+'.txt'),'w+', encoding='utf8') as f:\n",
    "    f.writelines([' '.join(line)+'\\n' for line in data.iloc[:,0]])"
   ],
   "metadata": {
    "collapsed": false
   }
  },
  {
   "cell_type": "code",
   "execution_count": null,
   "outputs": [],
   "source": [
    "from sklearn.feature_extraction.text import CountVectorizer\n",
    "#将文本中的词转换成词频矩阵\n",
    "vectorizer = CountVectorizer()\n",
    "# print(vectorizer)\n",
    "corpus = [' '.join(line) for line in data.iloc[:,0]]\n",
    "#计算某个词出现的次数\n",
    "X = vectorizer.fit_transform(corpus)\n",
    "# print(type(X),X)\n",
    "#获取词袋中所有文本关键词\n",
    "word = vectorizer.get_feature_names_out()\n",
    "print(len(word))\n",
    "#查看词频结果\n",
    "print(X.toarray())\n",
    "print(X.shape)"
   ],
   "metadata": {
    "collapsed": false
   }
  }
 ],
 "metadata": {
  "kernelspec": {
   "display_name": "Python 3",
   "language": "python",
   "name": "python3"
  },
  "language_info": {
   "codemirror_mode": {
    "name": "ipython",
    "version": 2
   },
   "file_extension": ".py",
   "mimetype": "text/x-python",
   "name": "python",
   "nbconvert_exporter": "python",
   "pygments_lexer": "ipython2",
   "version": "2.7.6"
  }
 },
 "nbformat": 4,
 "nbformat_minor": 0
}
