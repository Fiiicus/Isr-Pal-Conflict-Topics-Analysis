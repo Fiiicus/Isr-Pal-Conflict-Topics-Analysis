{
 "cells": [
  {
   "cell_type": "code",
   "execution_count": 164,
   "metadata": {
    "collapsed": true
   },
   "outputs": [],
   "source": [
    "import pandas as pd"
   ]
  },
  {
   "cell_type": "code",
   "execution_count": 165,
   "outputs": [
    {
     "data": {
      "text/plain": "                                                微博正文             发布时间  ip\n0  哈马斯发布来自也门的声援#巴以冲突##以色列称坚决拒绝停火##以色列轰炸后的加沙尸横遍野#L...  2023/12/1 23:57  北京\n1                        #伊朗#用无人机炸了#以色列#的船#巴以冲突##中东#  2023/12/1 23:56  广东\n2  在以色列军队恢复军事行动的1小时内，真主党武装在以色列北部边境确认发起了3次袭击。抵抗之弧在...  2023/12/1 23:56  广东\n3  卡塔尔外交部宣布，该国对停火结束后恢复敌对行动“深感遗憾”，双方未达成延长停火协议。卡塔尔外...  2023/12/1 23:49  北京\n4  卡桑旅的火箭弹在特拉维夫上空，铁穹紧急拦截#巴以冲突##以军已恢复军事打击行动#L靖难战神李...  2023/12/1 23:45  广东",
      "text/html": "<div>\n<style scoped>\n    .dataframe tbody tr th:only-of-type {\n        vertical-align: middle;\n    }\n\n    .dataframe tbody tr th {\n        vertical-align: top;\n    }\n\n    .dataframe thead th {\n        text-align: right;\n    }\n</style>\n<table border=\"1\" class=\"dataframe\">\n  <thead>\n    <tr style=\"text-align: right;\">\n      <th></th>\n      <th>微博正文</th>\n      <th>发布时间</th>\n      <th>ip</th>\n    </tr>\n  </thead>\n  <tbody>\n    <tr>\n      <th>0</th>\n      <td>哈马斯发布来自也门的声援#巴以冲突##以色列称坚决拒绝停火##以色列轰炸后的加沙尸横遍野#L...</td>\n      <td>2023/12/1 23:57</td>\n      <td>北京</td>\n    </tr>\n    <tr>\n      <th>1</th>\n      <td>#伊朗#用无人机炸了#以色列#的船#巴以冲突##中东#</td>\n      <td>2023/12/1 23:56</td>\n      <td>广东</td>\n    </tr>\n    <tr>\n      <th>2</th>\n      <td>在以色列军队恢复军事行动的1小时内，真主党武装在以色列北部边境确认发起了3次袭击。抵抗之弧在...</td>\n      <td>2023/12/1 23:56</td>\n      <td>广东</td>\n    </tr>\n    <tr>\n      <th>3</th>\n      <td>卡塔尔外交部宣布，该国对停火结束后恢复敌对行动“深感遗憾”，双方未达成延长停火协议。卡塔尔外...</td>\n      <td>2023/12/1 23:49</td>\n      <td>北京</td>\n    </tr>\n    <tr>\n      <th>4</th>\n      <td>卡桑旅的火箭弹在特拉维夫上空，铁穹紧急拦截#巴以冲突##以军已恢复军事打击行动#L靖难战神李...</td>\n      <td>2023/12/1 23:45</td>\n      <td>广东</td>\n    </tr>\n  </tbody>\n</table>\n</div>"
     },
     "execution_count": 165,
     "metadata": {},
     "output_type": "execute_result"
    }
   ],
   "source": [
    "# 原始数据路径\n",
    "month = 'nov'\n",
    "raw_data_path = f'data/raw/巴以冲突{month}.csv'\n",
    "data = pd.read_csv(raw_data_path, encoding='utf8')\n",
    "data.head()"
   ],
   "metadata": {
    "collapsed": false
   }
  },
  {
   "cell_type": "code",
   "execution_count": 166,
   "outputs": [
    {
     "data": {
      "text/plain": "                                                    微博正文             发布时间  ip\n0                                           哈马斯发布来自也门的声援  2023/12/1 23:57  北京\n1                                                         2023/12/1 23:56  广东\n2      在以色列军队恢复军事行动的1小时内，真主党武装在以色列北部边境确认发起了3次袭击。抵抗之弧在...  2023/12/1 23:56  广东\n3      卡塔尔外交部宣布，该国对停火结束后恢复敌对行动“深感遗憾”，双方未达成延长停火协议。卡塔尔外...  2023/12/1 23:49  北京\n4                                  卡桑旅的火箭弹在特拉维夫上空，铁穹紧急拦截  2023/12/1 23:45  广东\n...                                                  ...              ...  ..\n31980  今天是2023年11月6日星期一，昨天在理发店听到理发师在于顾客聊天，能从巴以冲突聊到恒大，...  2023/11/6 20:44  新疆\n31981  【外交部：外交部发言人汪文斌在今天例行记者会上表示，本轮巴以冲突已造成超过11000人死亡，...  2023/11/6 20:44  重庆\n31982  基辛格：美国正在分裂！解体就在眼前基辛格表示，美国正在遭受国内分裂以及国际混乱，然而美国却没...  2023/11/6 20:43  上海\n31983  为什么支持巴勒斯坦？这位英国小哥说得很对！其实全世界支持巴勒斯坦，跟反犹无关，也无关宗教。反...  2023/11/6 20:42  广东\n31984           ��🇧黎巴嫩真主党武装展示其反舰导弹，以作为对以色列海岸周边美国舰队存在的回应。  2023/11/6 20:42  广东\n\n[31985 rows x 3 columns]",
      "text/html": "<div>\n<style scoped>\n    .dataframe tbody tr th:only-of-type {\n        vertical-align: middle;\n    }\n\n    .dataframe tbody tr th {\n        vertical-align: top;\n    }\n\n    .dataframe thead th {\n        text-align: right;\n    }\n</style>\n<table border=\"1\" class=\"dataframe\">\n  <thead>\n    <tr style=\"text-align: right;\">\n      <th></th>\n      <th>微博正文</th>\n      <th>发布时间</th>\n      <th>ip</th>\n    </tr>\n  </thead>\n  <tbody>\n    <tr>\n      <th>0</th>\n      <td>哈马斯发布来自也门的声援</td>\n      <td>2023/12/1 23:57</td>\n      <td>北京</td>\n    </tr>\n    <tr>\n      <th>1</th>\n      <td></td>\n      <td>2023/12/1 23:56</td>\n      <td>广东</td>\n    </tr>\n    <tr>\n      <th>2</th>\n      <td>在以色列军队恢复军事行动的1小时内，真主党武装在以色列北部边境确认发起了3次袭击。抵抗之弧在...</td>\n      <td>2023/12/1 23:56</td>\n      <td>广东</td>\n    </tr>\n    <tr>\n      <th>3</th>\n      <td>卡塔尔外交部宣布，该国对停火结束后恢复敌对行动“深感遗憾”，双方未达成延长停火协议。卡塔尔外...</td>\n      <td>2023/12/1 23:49</td>\n      <td>北京</td>\n    </tr>\n    <tr>\n      <th>4</th>\n      <td>卡桑旅的火箭弹在特拉维夫上空，铁穹紧急拦截</td>\n      <td>2023/12/1 23:45</td>\n      <td>广东</td>\n    </tr>\n    <tr>\n      <th>...</th>\n      <td>...</td>\n      <td>...</td>\n      <td>...</td>\n    </tr>\n    <tr>\n      <th>31980</th>\n      <td>今天是2023年11月6日星期一，昨天在理发店听到理发师在于顾客聊天，能从巴以冲突聊到恒大，...</td>\n      <td>2023/11/6 20:44</td>\n      <td>新疆</td>\n    </tr>\n    <tr>\n      <th>31981</th>\n      <td>【外交部：外交部发言人汪文斌在今天例行记者会上表示，本轮巴以冲突已造成超过11000人死亡，...</td>\n      <td>2023/11/6 20:44</td>\n      <td>重庆</td>\n    </tr>\n    <tr>\n      <th>31982</th>\n      <td>基辛格：美国正在分裂！解体就在眼前基辛格表示，美国正在遭受国内分裂以及国际混乱，然而美国却没...</td>\n      <td>2023/11/6 20:43</td>\n      <td>上海</td>\n    </tr>\n    <tr>\n      <th>31983</th>\n      <td>为什么支持巴勒斯坦？这位英国小哥说得很对！其实全世界支持巴勒斯坦，跟反犹无关，也无关宗教。反...</td>\n      <td>2023/11/6 20:42</td>\n      <td>广东</td>\n    </tr>\n    <tr>\n      <th>31984</th>\n      <td>��🇧黎巴嫩真主党武装展示其反舰导弹，以作为对以色列海岸周边美国舰队存在的回应。</td>\n      <td>2023/11/6 20:42</td>\n      <td>广东</td>\n    </tr>\n  </tbody>\n</table>\n<p>31985 rows × 3 columns</p>\n</div>"
     },
     "execution_count": 166,
     "metadata": {},
     "output_type": "execute_result"
    }
   ],
   "source": [
    "import re\n",
    "data.iloc[:,0] = list(map(lambda line: re.sub(r'L.*微博视频','',line), data.iloc[:,0]))\n",
    "data.iloc[:,0] = list(map(lambda line: re.sub(r'#.*#','',line), data.iloc[:,0]))\n",
    "data"
   ],
   "metadata": {
    "collapsed": false
   }
  },
  {
   "cell_type": "code",
   "execution_count": 167,
   "outputs": [
    {
     "data": {
      "text/plain": "                                                    微博正文             发布时间  ip\n0                                           哈马斯发布来自也门的声援  2023/12/1 23:57  北京\n1                                                         2023/12/1 23:56  广东\n2      在以色列军队恢复军事行动的小时内真主党武装在以色列北部边境确认发起了次袭击抵抗之弧在临时停火...  2023/12/1 23:56  广东\n3      卡塔尔外交部宣布该国对停火结束后恢复敌对行动深感遗憾双方未达成延长停火协议卡塔尔外交部称各方...  2023/12/1 23:49  北京\n4                                   卡桑旅的火箭弹在特拉维夫上空铁穹紧急拦截  2023/12/1 23:45  广东\n...                                                  ...              ...  ..\n31980  今天是年月日星期一昨天在理发店听到理发师在于顾客聊天能从巴以冲突聊到恒大再到股市和楼市想想过...  2023/11/6 20:44  新疆\n31981  外交部外交部发言人汪文斌在今天例行记者会上表示本轮巴以冲突已造成超过人死亡其中绝大多数是平民...  2023/11/6 20:44  重庆\n31982  基辛格美国正在分裂解体就在眼前基辛格表示美国正在遭受国内分裂以及国际混乱然而美国却没办法凝聚...  2023/11/6 20:43  上海\n31983  为什么支持巴勒斯坦这位英国小哥说得很对其实全世界支持巴勒斯坦跟反犹无关也无关宗教反对以色列只...  2023/11/6 20:42  广东\n31984                黎巴嫩真主党武装展示其反舰导弹以作为对以色列海岸周边美国舰队存在的回应  2023/11/6 20:42  广东\n\n[31985 rows x 3 columns]",
      "text/html": "<div>\n<style scoped>\n    .dataframe tbody tr th:only-of-type {\n        vertical-align: middle;\n    }\n\n    .dataframe tbody tr th {\n        vertical-align: top;\n    }\n\n    .dataframe thead th {\n        text-align: right;\n    }\n</style>\n<table border=\"1\" class=\"dataframe\">\n  <thead>\n    <tr style=\"text-align: right;\">\n      <th></th>\n      <th>微博正文</th>\n      <th>发布时间</th>\n      <th>ip</th>\n    </tr>\n  </thead>\n  <tbody>\n    <tr>\n      <th>0</th>\n      <td>哈马斯发布来自也门的声援</td>\n      <td>2023/12/1 23:57</td>\n      <td>北京</td>\n    </tr>\n    <tr>\n      <th>1</th>\n      <td></td>\n      <td>2023/12/1 23:56</td>\n      <td>广东</td>\n    </tr>\n    <tr>\n      <th>2</th>\n      <td>在以色列军队恢复军事行动的小时内真主党武装在以色列北部边境确认发起了次袭击抵抗之弧在临时停火...</td>\n      <td>2023/12/1 23:56</td>\n      <td>广东</td>\n    </tr>\n    <tr>\n      <th>3</th>\n      <td>卡塔尔外交部宣布该国对停火结束后恢复敌对行动深感遗憾双方未达成延长停火协议卡塔尔外交部称各方...</td>\n      <td>2023/12/1 23:49</td>\n      <td>北京</td>\n    </tr>\n    <tr>\n      <th>4</th>\n      <td>卡桑旅的火箭弹在特拉维夫上空铁穹紧急拦截</td>\n      <td>2023/12/1 23:45</td>\n      <td>广东</td>\n    </tr>\n    <tr>\n      <th>...</th>\n      <td>...</td>\n      <td>...</td>\n      <td>...</td>\n    </tr>\n    <tr>\n      <th>31980</th>\n      <td>今天是年月日星期一昨天在理发店听到理发师在于顾客聊天能从巴以冲突聊到恒大再到股市和楼市想想过...</td>\n      <td>2023/11/6 20:44</td>\n      <td>新疆</td>\n    </tr>\n    <tr>\n      <th>31981</th>\n      <td>外交部外交部发言人汪文斌在今天例行记者会上表示本轮巴以冲突已造成超过人死亡其中绝大多数是平民...</td>\n      <td>2023/11/6 20:44</td>\n      <td>重庆</td>\n    </tr>\n    <tr>\n      <th>31982</th>\n      <td>基辛格美国正在分裂解体就在眼前基辛格表示美国正在遭受国内分裂以及国际混乱然而美国却没办法凝聚...</td>\n      <td>2023/11/6 20:43</td>\n      <td>上海</td>\n    </tr>\n    <tr>\n      <th>31983</th>\n      <td>为什么支持巴勒斯坦这位英国小哥说得很对其实全世界支持巴勒斯坦跟反犹无关也无关宗教反对以色列只...</td>\n      <td>2023/11/6 20:42</td>\n      <td>广东</td>\n    </tr>\n    <tr>\n      <th>31984</th>\n      <td>黎巴嫩真主党武装展示其反舰导弹以作为对以色列海岸周边美国舰队存在的回应</td>\n      <td>2023/11/6 20:42</td>\n      <td>广东</td>\n    </tr>\n  </tbody>\n</table>\n<p>31985 rows × 3 columns</p>\n</div>"
     },
     "execution_count": 167,
     "metadata": {},
     "output_type": "execute_result"
    }
   ],
   "source": [
    "# 只保留汉字\n",
    "def is_chinese(uchar):\n",
    "    if uchar >= u'\\u4e00' and uchar <= u'\\u9fa5':\n",
    "        return True\n",
    "    else:\n",
    "        return False\n",
    "\n",
    "def format_str(content):\n",
    "    content_str = ''\n",
    "    for i in content:\n",
    "        if is_chinese(i):\n",
    "            content_str = content_str + i\n",
    "    return content_str\n",
    "\n",
    "data.iloc[:,0] = list(map(format_str, data.iloc[:,0]))\n",
    "data"
   ],
   "metadata": {
    "collapsed": false
   }
  },
  {
   "cell_type": "code",
   "execution_count": 168,
   "outputs": [
    {
     "data": {
      "text/plain": "                                                    微博正文             发布时间  ip\n0                                           哈马斯发布来自也门的声援  2023/12/1 23:57  北京\n2      在以色列军队恢复军事行动的小时内真主党武装在以色列北部边境确认发起了次袭击抵抗之弧在临时停火...  2023/12/1 23:56  广东\n3      卡塔尔外交部宣布该国对停火结束后恢复敌对行动深感遗憾双方未达成延长停火协议卡塔尔外交部称各方...  2023/12/1 23:49  北京\n4                                   卡桑旅的火箭弹在特拉维夫上空铁穹紧急拦截  2023/12/1 23:45  广东\n5                                                 这图不服不行  2023/12/1 23:41  北京\n...                                                  ...              ...  ..\n31979  以色列说自己出于自卫目的打击哈马斯一个月下来以色列轰炸了民居难民营医院学校教堂甚至救护车炸死...  2023/11/6 20:44  广东\n31980  今天是年月日星期一昨天在理发店听到理发师在于顾客聊天能从巴以冲突聊到恒大再到股市和楼市想想过...  2023/11/6 20:44  新疆\n31982  基辛格美国正在分裂解体就在眼前基辛格表示美国正在遭受国内分裂以及国际混乱然而美国却没办法凝聚...  2023/11/6 20:43  上海\n31983  为什么支持巴勒斯坦这位英国小哥说得很对其实全世界支持巴勒斯坦跟反犹无关也无关宗教反对以色列只...  2023/11/6 20:42  广东\n31984                黎巴嫩真主党武装展示其反舰导弹以作为对以色列海岸周边美国舰队存在的回应  2023/11/6 20:42  广东\n\n[23148 rows x 3 columns]",
      "text/html": "<div>\n<style scoped>\n    .dataframe tbody tr th:only-of-type {\n        vertical-align: middle;\n    }\n\n    .dataframe tbody tr th {\n        vertical-align: top;\n    }\n\n    .dataframe thead th {\n        text-align: right;\n    }\n</style>\n<table border=\"1\" class=\"dataframe\">\n  <thead>\n    <tr style=\"text-align: right;\">\n      <th></th>\n      <th>微博正文</th>\n      <th>发布时间</th>\n      <th>ip</th>\n    </tr>\n  </thead>\n  <tbody>\n    <tr>\n      <th>0</th>\n      <td>哈马斯发布来自也门的声援</td>\n      <td>2023/12/1 23:57</td>\n      <td>北京</td>\n    </tr>\n    <tr>\n      <th>2</th>\n      <td>在以色列军队恢复军事行动的小时内真主党武装在以色列北部边境确认发起了次袭击抵抗之弧在临时停火...</td>\n      <td>2023/12/1 23:56</td>\n      <td>广东</td>\n    </tr>\n    <tr>\n      <th>3</th>\n      <td>卡塔尔外交部宣布该国对停火结束后恢复敌对行动深感遗憾双方未达成延长停火协议卡塔尔外交部称各方...</td>\n      <td>2023/12/1 23:49</td>\n      <td>北京</td>\n    </tr>\n    <tr>\n      <th>4</th>\n      <td>卡桑旅的火箭弹在特拉维夫上空铁穹紧急拦截</td>\n      <td>2023/12/1 23:45</td>\n      <td>广东</td>\n    </tr>\n    <tr>\n      <th>5</th>\n      <td>这图不服不行</td>\n      <td>2023/12/1 23:41</td>\n      <td>北京</td>\n    </tr>\n    <tr>\n      <th>...</th>\n      <td>...</td>\n      <td>...</td>\n      <td>...</td>\n    </tr>\n    <tr>\n      <th>31979</th>\n      <td>以色列说自己出于自卫目的打击哈马斯一个月下来以色列轰炸了民居难民营医院学校教堂甚至救护车炸死...</td>\n      <td>2023/11/6 20:44</td>\n      <td>广东</td>\n    </tr>\n    <tr>\n      <th>31980</th>\n      <td>今天是年月日星期一昨天在理发店听到理发师在于顾客聊天能从巴以冲突聊到恒大再到股市和楼市想想过...</td>\n      <td>2023/11/6 20:44</td>\n      <td>新疆</td>\n    </tr>\n    <tr>\n      <th>31982</th>\n      <td>基辛格美国正在分裂解体就在眼前基辛格表示美国正在遭受国内分裂以及国际混乱然而美国却没办法凝聚...</td>\n      <td>2023/11/6 20:43</td>\n      <td>上海</td>\n    </tr>\n    <tr>\n      <th>31983</th>\n      <td>为什么支持巴勒斯坦这位英国小哥说得很对其实全世界支持巴勒斯坦跟反犹无关也无关宗教反对以色列只...</td>\n      <td>2023/11/6 20:42</td>\n      <td>广东</td>\n    </tr>\n    <tr>\n      <th>31984</th>\n      <td>黎巴嫩真主党武装展示其反舰导弹以作为对以色列海岸周边美国舰队存在的回应</td>\n      <td>2023/11/6 20:42</td>\n      <td>广东</td>\n    </tr>\n  </tbody>\n</table>\n<p>23148 rows × 3 columns</p>\n</div>"
     },
     "execution_count": 168,
     "metadata": {},
     "output_type": "execute_result"
    }
   ],
   "source": [
    "import numpy as np\n",
    "\n",
    "# 去重\n",
    "data = data.drop_duplicates(['微博正文'],keep='first')\n",
    "data = data.drop(data[data['微博正文']==''].index)\n",
    "data"
   ],
   "metadata": {
    "collapsed": false
   }
  },
  {
   "cell_type": "code",
   "execution_count": 169,
   "outputs": [
    {
     "data": {
      "text/plain": "                                                    微博正文             发布时间  ip\n0                [哈马斯/nrt, 发布/v, 来自/v, 也门/d, 的/uj, 声援/n]  2023/12/1 23:57  北京\n2      [在/p, 以色列/ns, 军队/n, 恢复/v, 军事行动/n, 的/uj, 小时/n, ...  2023/12/1 23:56  广东\n3      [卡塔尔/nr, 外交部/nt, 宣布/v, 该国/r, 对/p, 停火/v, 结束/v, ...  2023/12/1 23:49  北京\n4      [卡桑/nrt, 旅/n, 的/uj, 火箭弹/n, 在/p, 特拉维夫/nrt, 上空/v...  2023/12/1 23:45  广东\n5                                 [这/r, 图/n, 不服/v, 不行/v]  2023/12/1 23:41  北京\n...                                                  ...              ...  ..\n31979  [以色列/ns, 说/v, 自己/r, 出于/v, 自卫/v, 目的/n, 打击/v, 哈马...  2023/11/6 20:44  广东\n31980  [今天/t, 是/v, 年月日/t, 星期一/t, 昨天/t, 在/p, 理发店/n, 听到...  2023/11/6 20:44  新疆\n31982  [基辛格/n, 美国/ns, 正在/t, 分裂/v, 解体/n, 就/d, 在/p, 眼前/...  2023/11/6 20:43  上海\n31983  [为什么/r, 支持/v, 巴勒斯坦/ns, 这位/rz, 英国/ns, 小哥/n, 说/v...  2023/11/6 20:42  广东\n31984  [黎巴嫩真主党/nt, 武装/n, 展示/v, 其/r, 反舰导弹/nz, 以/p, 作为/...  2023/11/6 20:42  广东\n\n[23148 rows x 3 columns]",
      "text/html": "<div>\n<style scoped>\n    .dataframe tbody tr th:only-of-type {\n        vertical-align: middle;\n    }\n\n    .dataframe tbody tr th {\n        vertical-align: top;\n    }\n\n    .dataframe thead th {\n        text-align: right;\n    }\n</style>\n<table border=\"1\" class=\"dataframe\">\n  <thead>\n    <tr style=\"text-align: right;\">\n      <th></th>\n      <th>微博正文</th>\n      <th>发布时间</th>\n      <th>ip</th>\n    </tr>\n  </thead>\n  <tbody>\n    <tr>\n      <th>0</th>\n      <td>[哈马斯/nrt, 发布/v, 来自/v, 也门/d, 的/uj, 声援/n]</td>\n      <td>2023/12/1 23:57</td>\n      <td>北京</td>\n    </tr>\n    <tr>\n      <th>2</th>\n      <td>[在/p, 以色列/ns, 军队/n, 恢复/v, 军事行动/n, 的/uj, 小时/n, ...</td>\n      <td>2023/12/1 23:56</td>\n      <td>广东</td>\n    </tr>\n    <tr>\n      <th>3</th>\n      <td>[卡塔尔/nr, 外交部/nt, 宣布/v, 该国/r, 对/p, 停火/v, 结束/v, ...</td>\n      <td>2023/12/1 23:49</td>\n      <td>北京</td>\n    </tr>\n    <tr>\n      <th>4</th>\n      <td>[卡桑/nrt, 旅/n, 的/uj, 火箭弹/n, 在/p, 特拉维夫/nrt, 上空/v...</td>\n      <td>2023/12/1 23:45</td>\n      <td>广东</td>\n    </tr>\n    <tr>\n      <th>5</th>\n      <td>[这/r, 图/n, 不服/v, 不行/v]</td>\n      <td>2023/12/1 23:41</td>\n      <td>北京</td>\n    </tr>\n    <tr>\n      <th>...</th>\n      <td>...</td>\n      <td>...</td>\n      <td>...</td>\n    </tr>\n    <tr>\n      <th>31979</th>\n      <td>[以色列/ns, 说/v, 自己/r, 出于/v, 自卫/v, 目的/n, 打击/v, 哈马...</td>\n      <td>2023/11/6 20:44</td>\n      <td>广东</td>\n    </tr>\n    <tr>\n      <th>31980</th>\n      <td>[今天/t, 是/v, 年月日/t, 星期一/t, 昨天/t, 在/p, 理发店/n, 听到...</td>\n      <td>2023/11/6 20:44</td>\n      <td>新疆</td>\n    </tr>\n    <tr>\n      <th>31982</th>\n      <td>[基辛格/n, 美国/ns, 正在/t, 分裂/v, 解体/n, 就/d, 在/p, 眼前/...</td>\n      <td>2023/11/6 20:43</td>\n      <td>上海</td>\n    </tr>\n    <tr>\n      <th>31983</th>\n      <td>[为什么/r, 支持/v, 巴勒斯坦/ns, 这位/rz, 英国/ns, 小哥/n, 说/v...</td>\n      <td>2023/11/6 20:42</td>\n      <td>广东</td>\n    </tr>\n    <tr>\n      <th>31984</th>\n      <td>[黎巴嫩真主党/nt, 武装/n, 展示/v, 其/r, 反舰导弹/nz, 以/p, 作为/...</td>\n      <td>2023/11/6 20:42</td>\n      <td>广东</td>\n    </tr>\n  </tbody>\n</table>\n<p>23148 rows × 3 columns</p>\n</div>"
     },
     "execution_count": 169,
     "metadata": {},
     "output_type": "execute_result"
    }
   ],
   "source": [
    "# 对文本进行jieba分词\n",
    "import jieba\n",
    "import jieba.posseg as pseg\n",
    "import pickle\n",
    "import os\n",
    "# 词性pickle文件的保存路径\n",
    "pos_filename = os.path.join('data','interim',os.path.basename(raw_data_path).split('.')[0]+'pos.pickle')\n",
    "# 如果存在词性pickle文件，则直接加载\n",
    "if os.path.exists(pos_filename):\n",
    "    with open(pos_filename, 'rb') as f:\n",
    "        data = pickle.load(f)\n",
    "else: # 没有则生成\n",
    "    jieba.load_userdict('data/补充词典.txt')\n",
    "    data.iloc[:,0] = list(map(lambda s:list(pseg.cut(s,use_paddle=True)),data.iloc[:,0]))\n",
    "    # data.iloc[:,0] = list(map(lambda s:list(jieba.cut(s,use_paddle=True)),data.iloc[:,0]))\n",
    "    with open(pos_filename,'wb') as f:\n",
    "        pickle.dump(data, f)\n",
    "data"
   ],
   "metadata": {
    "collapsed": false
   }
  },
  {
   "cell_type": "code",
   "execution_count": 170,
   "outputs": [],
   "source": [
    "# 根据词性删除虚词\n",
    "# data.drop(data[data.iloc[:,0]<10],inplace=True)\n",
    "for i in range(len(data)):\n",
    "    data.iloc[i,0] = list(filter(lambda x: x.flag not in ['t', 'p', 'm', 'q', 'r', 'y', 'u', 'm'], data.iloc[i,0]))\n",
    "# 删除单个字的词\n",
    "data.iloc[:,0] = [[word.word for word in line if len(word.word)>1]for line in data.iloc[:,0]]\n",
    "backup_data = data"
   ],
   "metadata": {
    "collapsed": false
   }
  },
  {
   "cell_type": "code",
   "execution_count": 171,
   "outputs": [
    {
     "data": {
      "text/plain": "71"
     },
     "execution_count": 171,
     "metadata": {},
     "output_type": "execute_result"
    }
   ],
   "source": [
    "# 去掉文本中的停用词\n",
    "def drop_stopwords(contents, stopwords):\n",
    "    contents_clean = []\n",
    "    for line in contents:\n",
    "        line_clean = []\n",
    "        for word in line:\n",
    "            if word in stopwords:\n",
    "                continue\n",
    "            line_clean.append(word)\n",
    "        contents_clean.append(line_clean)\n",
    "    return contents_clean\n",
    "stopwords = []\n",
    "with open('data/停用词.txt','r',encoding='utf8') as f:\n",
    "    stopwords = f.readlines()\n",
    "stopwords = set(map(lambda s:s.replace('\\n',''),stopwords))\n",
    "stopwords\n",
    "data.iloc[:,0] = drop_stopwords(data.iloc[:,0], stopwords)\n",
    "# data = data[data['微博正文'].apply(lambda x: 30 < len(x) < 50)]\n",
    "data = data[data['微博正文'].apply(lambda x:len(x) > 70)]\n",
    "min(list(map(len, data.iloc[:,0])))"
   ],
   "metadata": {
    "collapsed": false
   }
  },
  {
   "cell_type": "code",
   "execution_count": 172,
   "outputs": [
    {
     "data": {
      "text/plain": "3874"
     },
     "execution_count": 172,
     "metadata": {},
     "output_type": "execute_result"
    }
   ],
   "source": [
    "# 保存处理后数据\n",
    "# 处理后数据文件名\n",
    "processed_filename = f'weibo_{month}_processed'\n",
    "data.to_csv(os.path.join('data','processed',processed_filename+'.csv'), encoding='utf_8_sig')\n",
    "with open(os.path.join('data','processed',processed_filename+'.txt'),'w+', encoding='utf8') as f:\n",
    "    f.writelines([' '.join(line)+'\\n' for line in data.iloc[:,0]])\n",
    "\n",
    "len(data)"
   ],
   "metadata": {
    "collapsed": false
   }
  },
  {
   "cell_type": "code",
   "execution_count": 34,
   "outputs": [
    {
     "name": "stdout",
     "output_type": "stream",
     "text": [
      "54311\n",
      "[[0 0 0 ... 0 0 0]\n",
      " [0 0 0 ... 0 0 0]\n",
      " [0 0 0 ... 0 0 0]\n",
      " ...\n",
      " [0 0 0 ... 0 0 0]\n",
      " [0 0 0 ... 0 0 0]\n",
      " [0 0 0 ... 0 0 0]]\n",
      "(7756, 54311)\n"
     ]
    }
   ],
   "source": [
    "from sklearn.feature_extraction.text import CountVectorizer\n",
    "#将文本中的词转换成词频矩阵\n",
    "vectorizer = CountVectorizer()\n",
    "# print(vectorizer)\n",
    "corpus = [' '.join(line) for line in data.iloc[:,0]]\n",
    "#计算某个词出现的次数\n",
    "X = vectorizer.fit_transform(corpus)\n",
    "# print(type(X),X)\n",
    "#获取词袋中所有文本关键词\n",
    "word = vectorizer.get_feature_names_out()\n",
    "print(len(word))\n",
    "#查看词频结果\n",
    "print(X.toarray())\n",
    "print(X.shape)"
   ],
   "metadata": {
    "collapsed": false
   }
  },
  {
   "cell_type": "code",
   "execution_count": 40,
   "outputs": [
    {
     "data": {
      "text/plain": "144"
     },
     "execution_count": 40,
     "metadata": {},
     "output_type": "execute_result"
    }
   ],
   "source": [
    "import pickle\n",
    "with open('data/interim/dec_doc_topic_mat.pickle','rb') as f:\n",
    "    mat = pickle.load(f)\n",
    "sum(list(map(lambda x:1 if len(x)<10 else 0, mat)))\n",
    "# mat"
   ],
   "metadata": {
    "collapsed": false
   }
  },
  {
   "cell_type": "code",
   "execution_count": null,
   "outputs": [],
   "source": [],
   "metadata": {
    "collapsed": false
   }
  }
 ],
 "metadata": {
  "kernelspec": {
   "display_name": "Python 3",
   "language": "python",
   "name": "python3"
  },
  "language_info": {
   "codemirror_mode": {
    "name": "ipython",
    "version": 2
   },
   "file_extension": ".py",
   "mimetype": "text/x-python",
   "name": "python",
   "nbconvert_exporter": "python",
   "pygments_lexer": "ipython2",
   "version": "2.7.6"
  }
 },
 "nbformat": 4,
 "nbformat_minor": 0
}
